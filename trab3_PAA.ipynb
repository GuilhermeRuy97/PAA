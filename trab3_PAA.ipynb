{
  "nbformat": 4,
  "nbformat_minor": 0,
  "metadata": {
    "colab": {
      "name": "trab3_PAA.ipynb",
      "provenance": [],
      "collapsed_sections": [],
      "authorship_tag": "ABX9TyMa7+Vngc13E8KObOiOSoB7",
      "include_colab_link": true
    },
    "kernelspec": {
      "name": "python3",
      "display_name": "Python 3"
    },
    "language_info": {
      "name": "python"
    }
  },
  "cells": [
    {
      "cell_type": "markdown",
      "metadata": {
        "id": "view-in-github",
        "colab_type": "text"
      },
      "source": [
        "<a href=\"https://colab.research.google.com/github/GuilhermeRuy97/PAA-projeto-e-analise-de-algoritmo-/blob/main/trab3_PAA.ipynb\" target=\"_parent\"><img src=\"https://colab.research.google.com/assets/colab-badge.svg\" alt=\"Open In Colab\"/></a>"
      ]
    },
    {
      "cell_type": "markdown",
      "metadata": {
        "id": "T6Xp9jFBVzG7"
      },
      "source": [
        "Trabalho 3 de P.A.A. <br><br>\n",
        "Grupo: <br>\n",
        "-Guilherme Ruy <br>\n",
        "-Geovani Darcie <br>"
      ]
    },
    {
      "cell_type": "markdown",
      "metadata": {
        "id": "-KNFHMcfNLL0"
      },
      "source": [
        "# 0.0 Imports"
      ]
    },
    {
      "cell_type": "code",
      "metadata": {
        "id": "K4UjpoHLM8gM"
      },
      "source": [
        "import pandas as pd\n",
        "import seaborn as sns"
      ],
      "execution_count": 6,
      "outputs": []
    },
    {
      "cell_type": "markdown",
      "metadata": {
        "id": "-HXKXLvrNUOe"
      },
      "source": [
        "# 1.0 Leitura dos dados"
      ]
    },
    {
      "cell_type": "code",
      "metadata": {
        "id": "DOuEn69CNVge"
      },
      "source": [
        "url_quick_random = 'https://raw.githubusercontent.com/GuilhermeRuy97/PAA-projeto-e-analise-de-algoritmo-/main/trab3/quickRandom.csv'\n",
        "url_quick_inverso = 'https://raw.githubusercontent.com/GuilhermeRuy97/PAA-projeto-e-analise-de-algoritmo-/main/trab3/quickInverso.csv'\n",
        "url_quick_ordenado = 'https://raw.githubusercontent.com/GuilhermeRuy97/PAA-projeto-e-analise-de-algoritmo-/main/trab3/quickOrdenado.csv'\n",
        "\n",
        "url_heap_random = 'https://raw.githubusercontent.com/GuilhermeRuy97/PAA-projeto-e-analise-de-algoritmo-/main/trab3/heapRandom.csv'\n",
        "url_heap_inverso = 'https://raw.githubusercontent.com/GuilhermeRuy97/PAA-projeto-e-analise-de-algoritmo-/main/trab3/heapInverso.csv'\n",
        "url_heap_ordenado = 'https://raw.githubusercontent.com/GuilhermeRuy97/PAA-projeto-e-analise-de-algoritmo-/main/trab3/heapOrdenado.csv'"
      ],
      "execution_count": 10,
      "outputs": []
    },
    {
      "cell_type": "markdown",
      "metadata": {
        "id": "FkQw1EljPHvq"
      },
      "source": [
        "## 1.1 Quick Sort"
      ]
    },
    {
      "cell_type": "markdown",
      "metadata": {
        "id": "GzbE_bBXPM3Z"
      },
      "source": [
        "Espera-se para o caso do Quick Sort:\n",
        "\n",
        "\n",
        "1.   Para o pior caso: <br>\n",
        " &nbsp;T(n)=T(n−1)+Θ(n)\n",
        "2.   Para o melhor caso: <br>\n",
        " &nbsp;T(n)=2T(n/2)+Θ(n)\n",
        "\n",
        "\n"
      ]
    },
    {
      "cell_type": "code",
      "metadata": {
        "id": "kcwu3v20PJaH",
        "colab": {
          "base_uri": "https://localhost:8080/",
          "height": 254
        },
        "outputId": "6a26d903-a982-4dc5-c773-c7745f9ccf15"
      },
      "source": [
        "# Melhor caso\n",
        "\n",
        "quick_ordenado = pd.read_csv( url_quick_ordenado, sep = \"\\t\" )\n",
        "\n",
        "quick_ordenado.columns = ( ['Tamanho', 'Operacoes'] )\n",
        "quick_ordenado.head(7)"
      ],
      "execution_count": 11,
      "outputs": [
        {
          "output_type": "execute_result",
          "data": {
            "text/html": [
              "<div>\n",
              "<style scoped>\n",
              "    .dataframe tbody tr th:only-of-type {\n",
              "        vertical-align: middle;\n",
              "    }\n",
              "\n",
              "    .dataframe tbody tr th {\n",
              "        vertical-align: top;\n",
              "    }\n",
              "\n",
              "    .dataframe thead th {\n",
              "        text-align: right;\n",
              "    }\n",
              "</style>\n",
              "<table border=\"1\" class=\"dataframe\">\n",
              "  <thead>\n",
              "    <tr style=\"text-align: right;\">\n",
              "      <th></th>\n",
              "      <th>Tamanho</th>\n",
              "      <th>Operacoes</th>\n",
              "    </tr>\n",
              "  </thead>\n",
              "  <tbody>\n",
              "    <tr>\n",
              "      <th>0</th>\n",
              "      <td>2000</td>\n",
              "      <td>20928</td>\n",
              "    </tr>\n",
              "    <tr>\n",
              "      <th>1</th>\n",
              "      <td>3000</td>\n",
              "      <td>33000</td>\n",
              "    </tr>\n",
              "    <tr>\n",
              "      <th>2</th>\n",
              "      <td>4000</td>\n",
              "      <td>45856</td>\n",
              "    </tr>\n",
              "    <tr>\n",
              "      <th>3</th>\n",
              "      <td>5000</td>\n",
              "      <td>59760</td>\n",
              "    </tr>\n",
              "    <tr>\n",
              "      <th>4</th>\n",
              "      <td>6000</td>\n",
              "      <td>72000</td>\n",
              "    </tr>\n",
              "    <tr>\n",
              "      <th>5</th>\n",
              "      <td>7000</td>\n",
              "      <td>85712</td>\n",
              "    </tr>\n",
              "    <tr>\n",
              "      <th>6</th>\n",
              "      <td>8000</td>\n",
              "      <td>99712</td>\n",
              "    </tr>\n",
              "  </tbody>\n",
              "</table>\n",
              "</div>"
            ],
            "text/plain": [
              "   Tamanho  Operacoes\n",
              "0     2000      20928\n",
              "1     3000      33000\n",
              "2     4000      45856\n",
              "3     5000      59760\n",
              "4     6000      72000\n",
              "5     7000      85712\n",
              "6     8000      99712"
            ]
          },
          "metadata": {
            "tags": []
          },
          "execution_count": 11
        }
      ]
    },
    {
      "cell_type": "code",
      "metadata": {
        "id": "HhYY_WfqPa8h",
        "colab": {
          "base_uri": "https://localhost:8080/",
          "height": 254
        },
        "outputId": "bde337a4-b8ad-48d5-ac4a-14964fe7f45f"
      },
      "source": [
        "# Pior caso\n",
        "\n",
        "quick_inverso = pd.read_csv( url_quick_inverso, sep = \"\\t\" )\n",
        "\n",
        "quick_inverso.columns = ( ['Tamanho', 'Operacoes'] )\n",
        "quick_inverso.head(7)"
      ],
      "execution_count": 12,
      "outputs": [
        {
          "output_type": "execute_result",
          "data": {
            "text/html": [
              "<div>\n",
              "<style scoped>\n",
              "    .dataframe tbody tr th:only-of-type {\n",
              "        vertical-align: middle;\n",
              "    }\n",
              "\n",
              "    .dataframe tbody tr th {\n",
              "        vertical-align: top;\n",
              "    }\n",
              "\n",
              "    .dataframe thead th {\n",
              "        text-align: right;\n",
              "    }\n",
              "</style>\n",
              "<table border=\"1\" class=\"dataframe\">\n",
              "  <thead>\n",
              "    <tr style=\"text-align: right;\">\n",
              "      <th></th>\n",
              "      <th>Tamanho</th>\n",
              "      <th>Operacoes</th>\n",
              "    </tr>\n",
              "  </thead>\n",
              "  <tbody>\n",
              "    <tr>\n",
              "      <th>0</th>\n",
              "      <td>2000</td>\n",
              "      <td>19939</td>\n",
              "    </tr>\n",
              "    <tr>\n",
              "      <th>1</th>\n",
              "      <td>3000</td>\n",
              "      <td>31510</td>\n",
              "    </tr>\n",
              "    <tr>\n",
              "      <th>2</th>\n",
              "      <td>4000</td>\n",
              "      <td>43868</td>\n",
              "    </tr>\n",
              "    <tr>\n",
              "      <th>3</th>\n",
              "      <td>5000</td>\n",
              "      <td>57273</td>\n",
              "    </tr>\n",
              "    <tr>\n",
              "      <th>4</th>\n",
              "      <td>6000</td>\n",
              "      <td>69011</td>\n",
              "    </tr>\n",
              "    <tr>\n",
              "      <th>5</th>\n",
              "      <td>7000</td>\n",
              "      <td>82225</td>\n",
              "    </tr>\n",
              "    <tr>\n",
              "      <th>6</th>\n",
              "      <td>8000</td>\n",
              "      <td>95725</td>\n",
              "    </tr>\n",
              "  </tbody>\n",
              "</table>\n",
              "</div>"
            ],
            "text/plain": [
              "   Tamanho  Operacoes\n",
              "0     2000      19939\n",
              "1     3000      31510\n",
              "2     4000      43868\n",
              "3     5000      57273\n",
              "4     6000      69011\n",
              "5     7000      82225\n",
              "6     8000      95725"
            ]
          },
          "metadata": {
            "tags": []
          },
          "execution_count": 12
        }
      ]
    },
    {
      "cell_type": "code",
      "metadata": {
        "id": "9rFOC3g0PbKA",
        "colab": {
          "base_uri": "https://localhost:8080/",
          "height": 254
        },
        "outputId": "5db738fb-b059-4136-ab47-45c41cec9c2b"
      },
      "source": [
        "# Caso random\n",
        "\n",
        "quick_random = pd.read_csv( url_quick_random, sep = \"\\t\" )\n",
        "\n",
        "quick_random.columns = ( ['Tamanho', 'Operacoes'] )\n",
        "quick_random.head(7)"
      ],
      "execution_count": 13,
      "outputs": [
        {
          "output_type": "execute_result",
          "data": {
            "text/html": [
              "<div>\n",
              "<style scoped>\n",
              "    .dataframe tbody tr th:only-of-type {\n",
              "        vertical-align: middle;\n",
              "    }\n",
              "\n",
              "    .dataframe tbody tr th {\n",
              "        vertical-align: top;\n",
              "    }\n",
              "\n",
              "    .dataframe thead th {\n",
              "        text-align: right;\n",
              "    }\n",
              "</style>\n",
              "<table border=\"1\" class=\"dataframe\">\n",
              "  <thead>\n",
              "    <tr style=\"text-align: right;\">\n",
              "      <th></th>\n",
              "      <th>Tamanho</th>\n",
              "      <th>Operacoes</th>\n",
              "    </tr>\n",
              "  </thead>\n",
              "  <tbody>\n",
              "    <tr>\n",
              "      <th>0</th>\n",
              "      <td>2000</td>\n",
              "      <td>5314</td>\n",
              "    </tr>\n",
              "    <tr>\n",
              "      <th>1</th>\n",
              "      <td>3000</td>\n",
              "      <td>8365</td>\n",
              "    </tr>\n",
              "    <tr>\n",
              "      <th>2</th>\n",
              "      <td>4000</td>\n",
              "      <td>11425</td>\n",
              "    </tr>\n",
              "    <tr>\n",
              "      <th>3</th>\n",
              "      <td>5000</td>\n",
              "      <td>14840</td>\n",
              "    </tr>\n",
              "    <tr>\n",
              "      <th>4</th>\n",
              "      <td>6000</td>\n",
              "      <td>17955</td>\n",
              "    </tr>\n",
              "    <tr>\n",
              "      <th>5</th>\n",
              "      <td>7000</td>\n",
              "      <td>21070</td>\n",
              "    </tr>\n",
              "    <tr>\n",
              "      <th>6</th>\n",
              "      <td>8000</td>\n",
              "      <td>25002</td>\n",
              "    </tr>\n",
              "  </tbody>\n",
              "</table>\n",
              "</div>"
            ],
            "text/plain": [
              "   Tamanho  Operacoes\n",
              "0     2000       5314\n",
              "1     3000       8365\n",
              "2     4000      11425\n",
              "3     5000      14840\n",
              "4     6000      17955\n",
              "5     7000      21070\n",
              "6     8000      25002"
            ]
          },
          "metadata": {
            "tags": []
          },
          "execution_count": 13
        }
      ]
    },
    {
      "cell_type": "markdown",
      "metadata": {
        "id": "EXJZzyVwPwnm"
      },
      "source": [
        "## 1.2 Heap Sort"
      ]
    },
    {
      "cell_type": "markdown",
      "metadata": {
        "id": "ibl5IIe0Py33"
      },
      "source": [
        "Espera-se para o caso da Heap Sort:\n",
        "\n",
        "1.   Para o pior caso: <br>\n",
        " &nbsp;O(n²)\n",
        "2.   Para o melhor caso: <br>\n",
        " &nbsp;O(n) = log(n)"
      ]
    },
    {
      "cell_type": "code",
      "metadata": {
        "id": "BgG3ezU_Pyfn",
        "colab": {
          "base_uri": "https://localhost:8080/",
          "height": 254
        },
        "outputId": "125dbaa0-d52f-4cc3-e3e6-961e66ddcaa3"
      },
      "source": [
        "# Melhor caso\n",
        "\n",
        "heap_ordenado = pd.read_csv( url_heap_ordenado, sep = \"\\t\" )\n",
        "\n",
        "heap_ordenado.columns = ( ['Tamanho', 'Operacoes'] )\n",
        "heap_ordenado.head(7)"
      ],
      "execution_count": 14,
      "outputs": [
        {
          "output_type": "execute_result",
          "data": {
            "text/html": [
              "<div>\n",
              "<style scoped>\n",
              "    .dataframe tbody tr th:only-of-type {\n",
              "        vertical-align: middle;\n",
              "    }\n",
              "\n",
              "    .dataframe tbody tr th {\n",
              "        vertical-align: top;\n",
              "    }\n",
              "\n",
              "    .dataframe thead th {\n",
              "        text-align: right;\n",
              "    }\n",
              "</style>\n",
              "<table border=\"1\" class=\"dataframe\">\n",
              "  <thead>\n",
              "    <tr style=\"text-align: right;\">\n",
              "      <th></th>\n",
              "      <th>Tamanho</th>\n",
              "      <th>Operacoes</th>\n",
              "    </tr>\n",
              "  </thead>\n",
              "  <tbody>\n",
              "    <tr>\n",
              "      <th>0</th>\n",
              "      <td>4008</td>\n",
              "      <td>403591</td>\n",
              "    </tr>\n",
              "    <tr>\n",
              "      <th>1</th>\n",
              "      <td>6008</td>\n",
              "      <td>635998</td>\n",
              "    </tr>\n",
              "    <tr>\n",
              "      <th>2</th>\n",
              "      <td>8008</td>\n",
              "      <td>869082</td>\n",
              "    </tr>\n",
              "    <tr>\n",
              "      <th>3</th>\n",
              "      <td>10008</td>\n",
              "      <td>1116545</td>\n",
              "    </tr>\n",
              "    <tr>\n",
              "      <th>4</th>\n",
              "      <td>12008</td>\n",
              "      <td>1365517</td>\n",
              "    </tr>\n",
              "    <tr>\n",
              "      <th>5</th>\n",
              "      <td>14008</td>\n",
              "      <td>1614455</td>\n",
              "    </tr>\n",
              "    <tr>\n",
              "      <th>6</th>\n",
              "      <td>16008</td>\n",
              "      <td>1863489</td>\n",
              "    </tr>\n",
              "  </tbody>\n",
              "</table>\n",
              "</div>"
            ],
            "text/plain": [
              "   Tamanho  Operacoes\n",
              "0     4008     403591\n",
              "1     6008     635998\n",
              "2     8008     869082\n",
              "3    10008    1116545\n",
              "4    12008    1365517\n",
              "5    14008    1614455\n",
              "6    16008    1863489"
            ]
          },
          "metadata": {
            "tags": []
          },
          "execution_count": 14
        }
      ]
    },
    {
      "cell_type": "code",
      "metadata": {
        "id": "HOppRCmhW2Jp",
        "colab": {
          "base_uri": "https://localhost:8080/",
          "height": 254
        },
        "outputId": "a19eab9f-79f8-4bba-9e19-8f78f16c090d"
      },
      "source": [
        "# Pior caso\n",
        "\n",
        "heap_inverso = pd.read_csv( url_heap_inverso, sep = \"\\t\" )\n",
        "\n",
        "heap_inverso.columns = ( ['Tamanho', 'Operacoes'] )\n",
        "heap_inverso.head(7)"
      ],
      "execution_count": 15,
      "outputs": [
        {
          "output_type": "execute_result",
          "data": {
            "text/html": [
              "<div>\n",
              "<style scoped>\n",
              "    .dataframe tbody tr th:only-of-type {\n",
              "        vertical-align: middle;\n",
              "    }\n",
              "\n",
              "    .dataframe tbody tr th {\n",
              "        vertical-align: top;\n",
              "    }\n",
              "\n",
              "    .dataframe thead th {\n",
              "        text-align: right;\n",
              "    }\n",
              "</style>\n",
              "<table border=\"1\" class=\"dataframe\">\n",
              "  <thead>\n",
              "    <tr style=\"text-align: right;\">\n",
              "      <th></th>\n",
              "      <th>Tamanho</th>\n",
              "      <th>Operacoes</th>\n",
              "    </tr>\n",
              "  </thead>\n",
              "  <tbody>\n",
              "    <tr>\n",
              "      <th>0</th>\n",
              "      <td>4008</td>\n",
              "      <td>368961</td>\n",
              "    </tr>\n",
              "    <tr>\n",
              "      <th>1</th>\n",
              "      <td>6008</td>\n",
              "      <td>580640</td>\n",
              "    </tr>\n",
              "    <tr>\n",
              "      <th>2</th>\n",
              "      <td>8008</td>\n",
              "      <td>801677</td>\n",
              "    </tr>\n",
              "    <tr>\n",
              "      <th>3</th>\n",
              "      <td>10008</td>\n",
              "      <td>1028278</td>\n",
              "    </tr>\n",
              "    <tr>\n",
              "      <th>4</th>\n",
              "      <td>12008</td>\n",
              "      <td>1257314</td>\n",
              "    </tr>\n",
              "    <tr>\n",
              "      <th>5</th>\n",
              "      <td>14008</td>\n",
              "      <td>1493084</td>\n",
              "    </tr>\n",
              "    <tr>\n",
              "      <th>6</th>\n",
              "      <td>16008</td>\n",
              "      <td>1729181</td>\n",
              "    </tr>\n",
              "  </tbody>\n",
              "</table>\n",
              "</div>"
            ],
            "text/plain": [
              "   Tamanho  Operacoes\n",
              "0     4008     368961\n",
              "1     6008     580640\n",
              "2     8008     801677\n",
              "3    10008    1028278\n",
              "4    12008    1257314\n",
              "5    14008    1493084\n",
              "6    16008    1729181"
            ]
          },
          "metadata": {
            "tags": []
          },
          "execution_count": 15
        }
      ]
    },
    {
      "cell_type": "code",
      "metadata": {
        "id": "8NZdiARoW2ct",
        "colab": {
          "base_uri": "https://localhost:8080/",
          "height": 254
        },
        "outputId": "cd8da37b-7d71-4738-dc8b-6ada96ee6eb5"
      },
      "source": [
        "# Caso random\n",
        "\n",
        "heap_random = pd.read_csv( url_heap_random, sep = \"\\t\" )\n",
        "\n",
        "heap_random.columns = ( ['Tamanho', 'Operacoes'] )\n",
        "heap_random.head(7)"
      ],
      "execution_count": 16,
      "outputs": [
        {
          "output_type": "execute_result",
          "data": {
            "text/html": [
              "<div>\n",
              "<style scoped>\n",
              "    .dataframe tbody tr th:only-of-type {\n",
              "        vertical-align: middle;\n",
              "    }\n",
              "\n",
              "    .dataframe tbody tr th {\n",
              "        vertical-align: top;\n",
              "    }\n",
              "\n",
              "    .dataframe thead th {\n",
              "        text-align: right;\n",
              "    }\n",
              "</style>\n",
              "<table border=\"1\" class=\"dataframe\">\n",
              "  <thead>\n",
              "    <tr style=\"text-align: right;\">\n",
              "      <th></th>\n",
              "      <th>Tamanho</th>\n",
              "      <th>Operacoes</th>\n",
              "    </tr>\n",
              "  </thead>\n",
              "  <tbody>\n",
              "    <tr>\n",
              "      <th>0</th>\n",
              "      <td>4008</td>\n",
              "      <td>386122</td>\n",
              "    </tr>\n",
              "    <tr>\n",
              "      <th>1</th>\n",
              "      <td>6008</td>\n",
              "      <td>608626</td>\n",
              "    </tr>\n",
              "    <tr>\n",
              "      <th>2</th>\n",
              "      <td>8008</td>\n",
              "      <td>836107</td>\n",
              "    </tr>\n",
              "    <tr>\n",
              "      <th>3</th>\n",
              "      <td>10008</td>\n",
              "      <td>1072325</td>\n",
              "    </tr>\n",
              "    <tr>\n",
              "      <th>4</th>\n",
              "      <td>12008</td>\n",
              "      <td>1311569</td>\n",
              "    </tr>\n",
              "    <tr>\n",
              "      <th>5</th>\n",
              "      <td>14008</td>\n",
              "      <td>1554301</td>\n",
              "    </tr>\n",
              "    <tr>\n",
              "      <th>6</th>\n",
              "      <td>16008</td>\n",
              "      <td>1798623</td>\n",
              "    </tr>\n",
              "  </tbody>\n",
              "</table>\n",
              "</div>"
            ],
            "text/plain": [
              "   Tamanho  Operacoes\n",
              "0     4008     386122\n",
              "1     6008     608626\n",
              "2     8008     836107\n",
              "3    10008    1072325\n",
              "4    12008    1311569\n",
              "5    14008    1554301\n",
              "6    16008    1798623"
            ]
          },
          "metadata": {
            "tags": []
          },
          "execution_count": 16
        }
      ]
    },
    {
      "cell_type": "markdown",
      "metadata": {
        "id": "oGxn-ToQQJRS"
      },
      "source": [
        "# 2.0 Traçando gráficos"
      ]
    },
    {
      "cell_type": "markdown",
      "metadata": {
        "id": "MZqsox8hQJyC"
      },
      "source": [
        "## 2.1 Quick Sort"
      ]
    },
    {
      "cell_type": "code",
      "metadata": {
        "id": "8a8Sdv-1QPPK",
        "colab": {
          "base_uri": "https://localhost:8080/",
          "height": 290
        },
        "outputId": "c487f701-9d2b-45c3-ab9d-3f678ed6b2f9"
      },
      "source": [
        "#Plot dos 3 gráficos\n",
        "\n",
        "sns.lineplot( data = quick_inverso, x = 'Tamanho', y = 'Operacoes', label = \"inverso\" );\n",
        "sns.lineplot( data = quick_ordenado, x = 'Tamanho', y = 'Operacoes', label = \"ordenado\" );\n",
        "sns.lineplot( data = quick_random, x = 'Tamanho', y = 'Operacoes', label = \"random\" );"
      ],
      "execution_count": 18,
      "outputs": [
        {
          "output_type": "display_data",
          "data": {
            "image/png": "[encoded data removed]",
            "text/plain": [
              "<Figure size 432x288 with 1 Axes>"
            ]
          },
          "metadata": {
            "tags": [],
            "needs_background": "light"
          }
        }
      ]
    },
    {
      "cell_type": "markdown",
      "metadata": {
        "id": "lgp3KG_vQMSR"
      },
      "source": [
        "## 2.1 Heap Sort"
      ]
    },
    {
      "cell_type": "code",
      "metadata": {
        "id": "L9mY9Vn1QPk5",
        "colab": {
          "base_uri": "https://localhost:8080/",
          "height": 290
        },
        "outputId": "6986394f-620b-4440-e4a8-059169687f8d"
      },
      "source": [
        "#Plot dos 3 gráficos\n",
        "\n",
        "sns.lineplot( data = heap_inverso, x = 'Tamanho', y = 'Operacoes', label = \"inverso\" );\n",
        "sns.lineplot( data = heap_ordenado, x = 'Tamanho', y = 'Operacoes', label = \"ordenado\" );\n",
        "sns.lineplot( data = heap_random, x = 'Tamanho', y = 'Operacoes', label = \"random\" );"
      ],
      "execution_count": 19,
      "outputs": [
        {
          "output_type": "display_data",
          "data": {
            "image/png": "[encoded data removed]",
            "text/plain": [
              "<Figure size 432x288 with 1 Axes>"
            ]
          },
          "metadata": {
            "tags": [],
            "needs_background": "light"
          }
        }
      ]
    },
    {
      "cell_type": "markdown",
      "metadata": {
        "id": "M10QH0N8WefI"
      },
      "source": [
        "# Comparando os gráficos"
      ]
    },
    {
      "cell_type": "code",
      "metadata": {
        "id": "2SwlOQq2Wgbp",
        "colab": {
          "base_uri": "https://localhost:8080/",
          "height": 290
        },
        "outputId": "96325cf8-74ef-4df7-b261-7e0c2b70ddc0"
      },
      "source": [
        "# Melhor caso\n",
        "\n",
        "sns.lineplot( data = quick_ordenado, x = 'Tamanho', y = 'Operacoes', label = \"quick\" );\n",
        "sns.lineplot( data = heap_ordenado, x = 'Tamanho', y = 'Operacoes', label = \"heap\" );"
      ],
      "execution_count": 20,
      "outputs": [
        {
          "output_type": "display_data",
          "data": {
            "image/png": "[encoded data removed]",
            "text/plain": [
              "<Figure size 432x288 with 1 Axes>"
            ]
          },
          "metadata": {
            "tags": [],
            "needs_background": "light"
          }
        }
      ]
    },
    {
      "cell_type": "code",
      "metadata": {
        "id": "9UagcZsgXs8w",
        "colab": {
          "base_uri": "https://localhost:8080/",
          "height": 290
        },
        "outputId": "8586bbad-cf6c-41ee-f02a-5b59851bccbb"
      },
      "source": [
        "# Pior caso\n",
        "\n",
        "sns.lineplot( data = quick_inverso, x = 'Tamanho', y = 'Operacoes', label = \"quick\" );\n",
        "sns.lineplot( data = heap_inverso, x = 'Tamanho', y = 'Operacoes', label = \"heap\" );"
      ],
      "execution_count": 21,
      "outputs": [
        {
          "output_type": "display_data",
          "data": {
            "image/png": "[encoded data removed]",
            "text/plain": [
              "<Figure size 432x288 with 1 Axes>"
            ]
          },
          "metadata": {
            "tags": [],
            "needs_background": "light"
          }
        }
      ]
    },
    {
      "cell_type": "code",
      "metadata": {
        "id": "KIJT9_vUXtdJ",
        "colab": {
          "base_uri": "https://localhost:8080/",
          "height": 290
        },
        "outputId": "1d20ca63-ece9-45eb-99e5-d0f66d7099cb"
      },
      "source": [
        "# Caso random\n",
        "\n",
        "sns.lineplot( data = quick_random, x = 'Tamanho', y = 'Operacoes', label = \"quick\" );\n",
        "sns.lineplot( data = heap_random, x = 'Tamanho', y = 'Operacoes', label = \"heap\" );"
      ],
      "execution_count": 22,
      "outputs": [
        {
          "output_type": "display_data",
          "data": {
            "image/png": "[encoded data removed]",
            "text/plain": [
              "<Figure size 432x288 with 1 Axes>"
            ]
          },
          "metadata": {
            "tags": [],
            "needs_background": "light"
          }
        }
      ]
    }
  ]
}