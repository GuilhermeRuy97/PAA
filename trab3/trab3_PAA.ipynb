{
  "nbformat": 4,
  "nbformat_minor": 0,
  "metadata": {
    "colab": {
      "name": "trab3_PAA.ipynb",
      "provenance": [],
      "authorship_tag": "ABX9TyMNIFoneeXwkI5E/6PRDhUe",
      "include_colab_link": true
    },
    "kernelspec": {
      "name": "python3",
      "display_name": "Python 3"
    },
    "language_info": {
      "name": "python"
    }
  },
  "cells": [
    {
      "cell_type": "markdown",
      "metadata": {
        "id": "view-in-github",
        "colab_type": "text"
      },
      "source": [
        "<a href=\"https://colab.research.google.com/github/GuilhermeRuy97/PAA-projeto-e-analise-de-algoritmo-/blob/main/trab3_PAA.ipynb\" target=\"_parent\"><img src=\"https://colab.research.google.com/assets/colab-badge.svg\" alt=\"Open In Colab\"/></a>"
      ]
    },
    {
      "cell_type": "markdown",
      "metadata": {
        "id": "T6Xp9jFBVzG7"
      },
      "source": [
        "Trabalho 3 de P.A.A. <br><br>\n",
        "Grupo: <br>\n",
        "-Guilherme Ruy <br>\n",
        "-Geovani Darcie <br>"
      ]
    },
    {
      "cell_type": "markdown",
      "metadata": {
        "id": "-KNFHMcfNLL0"
      },
      "source": [
        "# 0.0 Imports"
      ]
    },
    {
      "cell_type": "code",
      "metadata": {
        "id": "K4UjpoHLM8gM"
      },
      "source": [
        "import pandas as pd\n",
        "import seaborn as sns"
      ],
      "execution_count": null,
      "outputs": []
    },
    {
      "cell_type": "markdown",
      "metadata": {
        "id": "-HXKXLvrNUOe"
      },
      "source": [
        "# 1.0 Leitura dos dados"
      ]
    },
    {
      "cell_type": "code",
      "metadata": {
        "id": "DOuEn69CNVge"
      },
      "source": [
        "url_quick_random = ''\n",
        "url_quick_inverso = ''\n",
        "url_quick_ordenado = ''\n",
        "\n",
        "url_heap_random = ''\n",
        "url_heap_inverso = ''\n",
        "url_heap_ordenado = ''"
      ],
      "execution_count": null,
      "outputs": []
    },
    {
      "cell_type": "markdown",
      "metadata": {
        "id": "FkQw1EljPHvq"
      },
      "source": [
        "## 1.1 Quick Sort"
      ]
    },
    {
      "cell_type": "markdown",
      "metadata": {
        "id": "GzbE_bBXPM3Z"
      },
      "source": [
        "Espera-se para o caso do Quick Sort:\n",
        "\n",
        "\n",
        "1.   Para o pior caso: <br>\n",
        " &nbsp;T(n)=T(n−1)+Θ(n)\n",
        "2.   Para o melhor caso: <br>\n",
        " &nbsp;T(n)=2T(n/2)+Θ(n)\n",
        "\n",
        "\n"
      ]
    },
    {
      "cell_type": "code",
      "metadata": {
        "id": "kcwu3v20PJaH"
      },
      "source": [
        "# Melhor caso\n",
        "\n",
        "quick_ordenado = pd.read_csv( url_quick_ordenado )\n",
        "\n",
        "quick_ordenado.columns = ( ['Tamanho', 'Operacoes'] )\n",
        "quick_ordenado.head(7)"
      ],
      "execution_count": null,
      "outputs": []
    },
    {
      "cell_type": "code",
      "metadata": {
        "id": "HhYY_WfqPa8h"
      },
      "source": [
        "# Pior caso\n",
        "\n",
        "quick_inverso = pd.read_csv( url_quick_inverso )\n",
        "\n",
        "quick_inverso.columns = ( ['Tamanho', 'Operacoes'] )\n",
        "quick_inverso.head(7)"
      ],
      "execution_count": null,
      "outputs": []
    },
    {
      "cell_type": "code",
      "metadata": {
        "id": "9rFOC3g0PbKA"
      },
      "source": [
        "# Caso random\n",
        "\n",
        "quick_random = pd.read_csv( url_quick_random )\n",
        "\n",
        "quick_random.columns = ( ['Tamanho', 'Operacoes'] )\n",
        "quick_random.head(7)"
      ],
      "execution_count": null,
      "outputs": []
    },
    {
      "cell_type": "markdown",
      "metadata": {
        "id": "EXJZzyVwPwnm"
      },
      "source": [
        "## 1.2 Heap Sort"
      ]
    },
    {
      "cell_type": "markdown",
      "metadata": {
        "id": "ibl5IIe0Py33"
      },
      "source": [
        "Espera-se para o caso da Heap Sort:\n",
        "\n",
        "1.   Para o pior caso: <br>\n",
        " &nbsp;O(n²)\n",
        "2.   Para o melhor caso: <br>\n",
        " &nbsp;O(n) = log(n)"
      ]
    },
    {
      "cell_type": "code",
      "metadata": {
        "id": "BgG3ezU_Pyfn"
      },
      "source": [
        "# Melhor caso\n",
        "\n",
        "heap_ordenado = pd.read_csv( url_heap_ordenado )\n",
        "\n",
        "heap_ordenado.columns = ( ['Tamanho', 'Operacoes'] )\n",
        "heap_ordenado.head(7)"
      ],
      "execution_count": null,
      "outputs": []
    },
    {
      "cell_type": "code",
      "metadata": {
        "id": "HOppRCmhW2Jp"
      },
      "source": [
        "# Pior caso\n",
        "\n",
        "heap_inverso = pd.read_csv( url_heap_inverso )\n",
        "\n",
        "heap_inverso.columns = ( ['Tamanho', 'Operacoes'] )\n",
        "heap_inverso.head(7)"
      ],
      "execution_count": null,
      "outputs": []
    },
    {
      "cell_type": "code",
      "metadata": {
        "id": "8NZdiARoW2ct"
      },
      "source": [
        "# Caso random\n",
        "\n",
        "heap_random = pd.read_csv( url_heap_random )\n",
        "\n",
        "heap_random.columns = ( ['Tamanho', 'Operacoes'] )\n",
        "heap_random.head(7)"
      ],
      "execution_count": null,
      "outputs": []
    },
    {
      "cell_type": "markdown",
      "metadata": {
        "id": "oGxn-ToQQJRS"
      },
      "source": [
        "# 2.0 Traçando gráficos"
      ]
    },
    {
      "cell_type": "markdown",
      "metadata": {
        "id": "MZqsox8hQJyC"
      },
      "source": [
        "## 2.1 Quick Sort"
      ]
    },
    {
      "cell_type": "code",
      "metadata": {
        "id": "8a8Sdv-1QPPK"
      },
      "source": [
        "#Plot dos 3 gráficos\n",
        "\n",
        "sns.lineplot( data = quick_inverso, x = 'Tamanho', y = 'Operacoes', label = \"inverso\" )\n",
        "sns.lineplot( data = quick_ordenado, x = 'Tamanho', y = 'Operacoes', label = \"ordenado\" )\n",
        "sns.lineplot( data = quick_random, x = 'Tamanho', y = 'Operacoes', label = \"random\" )"
      ],
      "execution_count": null,
      "outputs": []
    },
    {
      "cell_type": "markdown",
      "metadata": {
        "id": "lgp3KG_vQMSR"
      },
      "source": [
        "## 2.1 Heap Sort"
      ]
    },
    {
      "cell_type": "code",
      "metadata": {
        "id": "L9mY9Vn1QPk5"
      },
      "source": [
        "#Plot dos 3 gráficos\n",
        "\n",
        "sns.lineplot( data = heap_inverso, x = 'Tamanho', y = 'Operacoes', label = \"inverso\" )\n",
        "sns.lineplot( data = heap_ordenado, x = 'Tamanho', y = 'Operacoes', label = \"ordenado\" )\n",
        "sns.lineplot( data = heap_random, x = 'Tamanho', y = 'Operacoes', label = \"random\" )"
      ],
      "execution_count": null,
      "outputs": []
    },
    {
      "cell_type": "markdown",
      "metadata": {
        "id": "M10QH0N8WefI"
      },
      "source": [
        "# Comparando os gráficos"
      ]
    },
    {
      "cell_type": "code",
      "metadata": {
        "id": "2SwlOQq2Wgbp"
      },
      "source": [
        "# Melhor caso\n",
        "\n",
        "sns.lineplot( data = quick_ordenado, x = 'Tamanho', y = 'Operacoes', label = \"ordenado\" )\n",
        "sns.lineplot( data = heap_ordenado, x = 'Tamanho', y = 'Operacoes', label = \"ordenado\" )"
      ],
      "execution_count": null,
      "outputs": []
    },
    {
      "cell_type": "code",
      "metadata": {
        "id": "9UagcZsgXs8w"
      },
      "source": [
        "# Pior caso\n",
        "\n",
        "sns.lineplot( data = quick_inverso, x = 'Tamanho', y = 'Operacoes', label = \"inverso\" )\n",
        "sns.lineplot( data = heap_inverso, x = 'Tamanho', y = 'Operacoes', label = \"inverso\" )"
      ],
      "execution_count": null,
      "outputs": []
    },
    {
      "cell_type": "code",
      "metadata": {
        "id": "KIJT9_vUXtdJ"
      },
      "source": [
        "# Caso random\n",
        "\n",
        "sns.lineplot( data = quick_random, x = 'Tamanho', y = 'Operacoes', label = \"random\" )\n",
        "sns.lineplot( data = heap_random, x = 'Tamanho', y = 'Operacoes', label = \"random\" )"
      ],
      "execution_count": null,
      "outputs": []
    }
  ]
}