{
  "nbformat": 4,
  "nbformat_minor": 0,
  "metadata": {
    "colab": {
      "name": "TRAB2_PAA.ipynb",
      "provenance": []
    },
    "kernelspec": {
      "name": "python3",
      "display_name": "Python 3"
    },
    "language_info": {
      "name": "python"
    }
  },
  "cells": [
    {
      "cell_type": "markdown",
      "metadata": {
        "id": "-KNFHMcfNLL0"
      },
      "source": [
        "# 0.0 Imports"
      ]
    },
    {
      "cell_type": "code",
      "metadata": {
        "id": "K4UjpoHLM8gM"
      },
      "source": [
        "import pandas as pd\n",
        "import seaborn as sns"
      ],
      "execution_count": null,
      "outputs": []
    },
    {
      "cell_type": "markdown",
      "metadata": {
        "id": "-HXKXLvrNUOe"
      },
      "source": [
        "# 1.0 Leitura dos dados"
      ]
    },
    {
      "cell_type": "code",
      "metadata": {
        "id": "DOuEn69CNVge"
      },
      "source": [
        "url_insetion_random = 'https://raw.githubusercontent.com/GuilhermeRuy97/PAA-projeto-e-analise-de-algoritmo-/main/trab2/medioCasoInsertion.txt'\n",
        "url_insetion_inverso = 'https://raw.githubusercontent.com/GuilhermeRuy97/PAA-projeto-e-analise-de-algoritmo-/main/trab2/piorCasoInsertion.txt'\n",
        "url_insetion_ordenado = 'https://raw.githubusercontent.com/GuilhermeRuy97/PAA-projeto-e-analise-de-algoritmo-/main/trab2/melhorCasoInsertion.txt'\n",
        "\n",
        "url_busca_binaria = 'https://raw.githubusercontent.com/GuilhermeRuy97/PAA-projeto-e-analise-de-algoritmo-/main/trab2/piorCasoBinario.txt'"
      ],
      "execution_count": null,
      "outputs": []
    },
    {
      "cell_type": "markdown",
      "metadata": {
        "id": "FkQw1EljPHvq"
      },
      "source": [
        "## 1.1 Insertion Sort"
      ]
    },
    {
      "cell_type": "markdown",
      "metadata": {
        "id": "GzbE_bBXPM3Z"
      },
      "source": [
        "Espera-se para o caso do Insertion Sort:\n",
        "\n",
        "\n",
        "1.   Para o pior caso: <br>\n",
        " &nbsp;O(n) = n^2\n",
        "2.   Para o melhor caso: <br>\n",
        " &nbsp;O(n) = n\n",
        "\n",
        "\n"
      ]
    },
    {
      "cell_type": "code",
      "metadata": {
        "id": "kcwu3v20PJaH",
        "colab": {
          "base_uri": "https://localhost:8080/",
          "height": 254
        },
        "outputId": "8912e987-6b13-4f0a-ca1a-fd3948cbf7cc"
      },
      "source": [
        "# Melhor caso\n",
        "\n",
        "insertion_ordenado = pd.read_csv( url_insetion_ordenado, sep = \"\\t\" )\n",
        "\n",
        "insertion_ordenado.columns = ( ['Tamanho', 'Operacoes'] )\n",
        "insertion_ordenado.head(7)"
      ],
      "execution_count": null,
      "outputs": [
        {
          "output_type": "execute_result",
          "data": {
            "text/html": [
              "<div>\n",
              "<style scoped>\n",
              "    .dataframe tbody tr th:only-of-type {\n",
              "        vertical-align: middle;\n",
              "    }\n",
              "\n",
              "    .dataframe tbody tr th {\n",
              "        vertical-align: top;\n",
              "    }\n",
              "\n",
              "    .dataframe thead th {\n",
              "        text-align: right;\n",
              "    }\n",
              "</style>\n",
              "<table border=\"1\" class=\"dataframe\">\n",
              "  <thead>\n",
              "    <tr style=\"text-align: right;\">\n",
              "      <th></th>\n",
              "      <th>Tamanho</th>\n",
              "      <th>Operacoes</th>\n",
              "    </tr>\n",
              "  </thead>\n",
              "  <tbody>\n",
              "    <tr>\n",
              "      <th>0</th>\n",
              "      <td>20</td>\n",
              "      <td>19</td>\n",
              "    </tr>\n",
              "    <tr>\n",
              "      <th>1</th>\n",
              "      <td>30</td>\n",
              "      <td>29</td>\n",
              "    </tr>\n",
              "    <tr>\n",
              "      <th>2</th>\n",
              "      <td>40</td>\n",
              "      <td>39</td>\n",
              "    </tr>\n",
              "    <tr>\n",
              "      <th>3</th>\n",
              "      <td>50</td>\n",
              "      <td>49</td>\n",
              "    </tr>\n",
              "    <tr>\n",
              "      <th>4</th>\n",
              "      <td>60</td>\n",
              "      <td>59</td>\n",
              "    </tr>\n",
              "    <tr>\n",
              "      <th>5</th>\n",
              "      <td>70</td>\n",
              "      <td>69</td>\n",
              "    </tr>\n",
              "    <tr>\n",
              "      <th>6</th>\n",
              "      <td>80</td>\n",
              "      <td>79</td>\n",
              "    </tr>\n",
              "  </tbody>\n",
              "</table>\n",
              "</div>"
            ],
            "text/plain": [
              "   Tamanho  Operacoes\n",
              "0       20         19\n",
              "1       30         29\n",
              "2       40         39\n",
              "3       50         49\n",
              "4       60         59\n",
              "5       70         69\n",
              "6       80         79"
            ]
          },
          "metadata": {
            "tags": []
          },
          "execution_count": 7
        }
      ]
    },
    {
      "cell_type": "code",
      "metadata": {
        "id": "HhYY_WfqPa8h",
        "colab": {
          "base_uri": "https://localhost:8080/",
          "height": 254
        },
        "outputId": "a947bb8f-6561-4edf-b30b-4053923d6a1d"
      },
      "source": [
        "# Pior caso\n",
        "\n",
        "insertion_inverso = pd.read_csv( url_insetion_inverso, sep = \"\\t\" )\n",
        "\n",
        "insertion_inverso.columns = ( ['Tamanho', 'Operacoes'] )\n",
        "insertion_inverso.head(7)"
      ],
      "execution_count": null,
      "outputs": [
        {
          "output_type": "execute_result",
          "data": {
            "text/html": [
              "<div>\n",
              "<style scoped>\n",
              "    .dataframe tbody tr th:only-of-type {\n",
              "        vertical-align: middle;\n",
              "    }\n",
              "\n",
              "    .dataframe tbody tr th {\n",
              "        vertical-align: top;\n",
              "    }\n",
              "\n",
              "    .dataframe thead th {\n",
              "        text-align: right;\n",
              "    }\n",
              "</style>\n",
              "<table border=\"1\" class=\"dataframe\">\n",
              "  <thead>\n",
              "    <tr style=\"text-align: right;\">\n",
              "      <th></th>\n",
              "      <th>Tamanho</th>\n",
              "      <th>Operacoes</th>\n",
              "    </tr>\n",
              "  </thead>\n",
              "  <tbody>\n",
              "    <tr>\n",
              "      <th>0</th>\n",
              "      <td>20</td>\n",
              "      <td>190</td>\n",
              "    </tr>\n",
              "    <tr>\n",
              "      <th>1</th>\n",
              "      <td>30</td>\n",
              "      <td>435</td>\n",
              "    </tr>\n",
              "    <tr>\n",
              "      <th>2</th>\n",
              "      <td>40</td>\n",
              "      <td>780</td>\n",
              "    </tr>\n",
              "    <tr>\n",
              "      <th>3</th>\n",
              "      <td>50</td>\n",
              "      <td>1225</td>\n",
              "    </tr>\n",
              "    <tr>\n",
              "      <th>4</th>\n",
              "      <td>60</td>\n",
              "      <td>1770</td>\n",
              "    </tr>\n",
              "    <tr>\n",
              "      <th>5</th>\n",
              "      <td>70</td>\n",
              "      <td>2415</td>\n",
              "    </tr>\n",
              "    <tr>\n",
              "      <th>6</th>\n",
              "      <td>80</td>\n",
              "      <td>3160</td>\n",
              "    </tr>\n",
              "  </tbody>\n",
              "</table>\n",
              "</div>"
            ],
            "text/plain": [
              "   Tamanho  Operacoes\n",
              "0       20        190\n",
              "1       30        435\n",
              "2       40        780\n",
              "3       50       1225\n",
              "4       60       1770\n",
              "5       70       2415\n",
              "6       80       3160"
            ]
          },
          "metadata": {
            "tags": []
          },
          "execution_count": 8
        }
      ]
    },
    {
      "cell_type": "code",
      "metadata": {
        "id": "9rFOC3g0PbKA",
        "colab": {
          "base_uri": "https://localhost:8080/",
          "height": 254
        },
        "outputId": "671539f2-1ffb-4af7-a782-39faae34bcda"
      },
      "source": [
        "# Caso random\n",
        "\n",
        "insertion_random = pd.read_csv( url_insetion_random, sep = \"\\t\" )\n",
        "\n",
        "insertion_random.columns = ( ['Tamanho', 'Operacoes'] )\n",
        "insertion_random.head(7)"
      ],
      "execution_count": null,
      "outputs": [
        {
          "output_type": "execute_result",
          "data": {
            "text/html": [
              "<div>\n",
              "<style scoped>\n",
              "    .dataframe tbody tr th:only-of-type {\n",
              "        vertical-align: middle;\n",
              "    }\n",
              "\n",
              "    .dataframe tbody tr th {\n",
              "        vertical-align: top;\n",
              "    }\n",
              "\n",
              "    .dataframe thead th {\n",
              "        text-align: right;\n",
              "    }\n",
              "</style>\n",
              "<table border=\"1\" class=\"dataframe\">\n",
              "  <thead>\n",
              "    <tr style=\"text-align: right;\">\n",
              "      <th></th>\n",
              "      <th>Tamanho</th>\n",
              "      <th>Operacoes</th>\n",
              "    </tr>\n",
              "  </thead>\n",
              "  <tbody>\n",
              "    <tr>\n",
              "      <th>0</th>\n",
              "      <td>20</td>\n",
              "      <td>123</td>\n",
              "    </tr>\n",
              "    <tr>\n",
              "      <th>1</th>\n",
              "      <td>30</td>\n",
              "      <td>230</td>\n",
              "    </tr>\n",
              "    <tr>\n",
              "      <th>2</th>\n",
              "      <td>40</td>\n",
              "      <td>397</td>\n",
              "    </tr>\n",
              "    <tr>\n",
              "      <th>3</th>\n",
              "      <td>50</td>\n",
              "      <td>593</td>\n",
              "    </tr>\n",
              "    <tr>\n",
              "      <th>4</th>\n",
              "      <td>60</td>\n",
              "      <td>768</td>\n",
              "    </tr>\n",
              "    <tr>\n",
              "      <th>5</th>\n",
              "      <td>70</td>\n",
              "      <td>987</td>\n",
              "    </tr>\n",
              "    <tr>\n",
              "      <th>6</th>\n",
              "      <td>80</td>\n",
              "      <td>1435</td>\n",
              "    </tr>\n",
              "  </tbody>\n",
              "</table>\n",
              "</div>"
            ],
            "text/plain": [
              "   Tamanho  Operacoes\n",
              "0       20        123\n",
              "1       30        230\n",
              "2       40        397\n",
              "3       50        593\n",
              "4       60        768\n",
              "5       70        987\n",
              "6       80       1435"
            ]
          },
          "metadata": {
            "tags": []
          },
          "execution_count": 9
        }
      ]
    },
    {
      "cell_type": "markdown",
      "metadata": {
        "id": "EXJZzyVwPwnm"
      },
      "source": [
        "## 1.2 Busca Binaria"
      ]
    },
    {
      "cell_type": "markdown",
      "metadata": {
        "id": "ibl5IIe0Py33"
      },
      "source": [
        "Espera-se para o caso da busca binaria:\n",
        "\n",
        "O(n) = log(n)"
      ]
    },
    {
      "cell_type": "code",
      "metadata": {
        "id": "BgG3ezU_Pyfn",
        "colab": {
          "base_uri": "https://localhost:8080/",
          "height": 254
        },
        "outputId": "624abf13-8155-4f45-ae2a-2613b7506a47"
      },
      "source": [
        "# Binary Search\n",
        "\n",
        "busca_binaria = pd.read_csv( url_busca_binaria, sep = \"\\t\" )\n",
        "\n",
        "busca_binaria.columns = ( ['Tamanho', 'Operacoes'] )\n",
        "busca_binaria.head(7)"
      ],
      "execution_count": null,
      "outputs": [
        {
          "output_type": "execute_result",
          "data": {
            "text/html": [
              "<div>\n",
              "<style scoped>\n",
              "    .dataframe tbody tr th:only-of-type {\n",
              "        vertical-align: middle;\n",
              "    }\n",
              "\n",
              "    .dataframe tbody tr th {\n",
              "        vertical-align: top;\n",
              "    }\n",
              "\n",
              "    .dataframe thead th {\n",
              "        text-align: right;\n",
              "    }\n",
              "</style>\n",
              "<table border=\"1\" class=\"dataframe\">\n",
              "  <thead>\n",
              "    <tr style=\"text-align: right;\">\n",
              "      <th></th>\n",
              "      <th>Tamanho</th>\n",
              "      <th>Operacoes</th>\n",
              "    </tr>\n",
              "  </thead>\n",
              "  <tbody>\n",
              "    <tr>\n",
              "      <th>0</th>\n",
              "      <td>20</td>\n",
              "      <td>5</td>\n",
              "    </tr>\n",
              "    <tr>\n",
              "      <th>1</th>\n",
              "      <td>30</td>\n",
              "      <td>5</td>\n",
              "    </tr>\n",
              "    <tr>\n",
              "      <th>2</th>\n",
              "      <td>40</td>\n",
              "      <td>6</td>\n",
              "    </tr>\n",
              "    <tr>\n",
              "      <th>3</th>\n",
              "      <td>50</td>\n",
              "      <td>6</td>\n",
              "    </tr>\n",
              "    <tr>\n",
              "      <th>4</th>\n",
              "      <td>60</td>\n",
              "      <td>6</td>\n",
              "    </tr>\n",
              "    <tr>\n",
              "      <th>5</th>\n",
              "      <td>70</td>\n",
              "      <td>7</td>\n",
              "    </tr>\n",
              "    <tr>\n",
              "      <th>6</th>\n",
              "      <td>80</td>\n",
              "      <td>7</td>\n",
              "    </tr>\n",
              "  </tbody>\n",
              "</table>\n",
              "</div>"
            ],
            "text/plain": [
              "   Tamanho  Operacoes\n",
              "0       20          5\n",
              "1       30          5\n",
              "2       40          6\n",
              "3       50          6\n",
              "4       60          6\n",
              "5       70          7\n",
              "6       80          7"
            ]
          },
          "metadata": {
            "tags": []
          },
          "execution_count": 10
        }
      ]
    },
    {
      "cell_type": "markdown",
      "metadata": {
        "id": "oGxn-ToQQJRS"
      },
      "source": [
        "# 2.0 Traçando gráficos"
      ]
    },
    {
      "cell_type": "markdown",
      "metadata": {
        "id": "MZqsox8hQJyC"
      },
      "source": [
        "## 2.1 Insertion Sort"
      ]
    },
    {
      "cell_type": "code",
      "metadata": {
        "id": "8a8Sdv-1QPPK",
        "colab": {
          "base_uri": "https://localhost:8080/",
          "height": 307
        },
        "outputId": "7fb9f30c-6478-4bb1-8166-9ce7999378cb"
      },
      "source": [
        "#Plot dos 3 gráficos\n",
        "\n",
        "sns.lineplot( data = insertion_inverso, x = 'Tamanho', y = 'Operacoes', label = \"inverso\" )\n",
        "sns.lineplot( data = insertion_ordenado, x = 'Tamanho', y = 'Operacoes', label = \"ordenado\" )\n",
        "sns.lineplot( data = insertion_random, x = 'Tamanho', y = 'Operacoes', label = \"random\" )"
      ],
      "execution_count": null,
      "outputs": [
        {
          "output_type": "execute_result",
          "data": {
            "text/plain": [
              "<matplotlib.axes._subplots.AxesSubplot at 0x7ff6666e2810>"
            ]
          },
          "metadata": {
            "tags": []
          },
          "execution_count": 11
        },
        {
          "output_type": "display_data",
          "data": {
            "image/png": "[encoded data removed]",
            "text/plain": [
              "<Figure size 432x288 with 1 Axes>"
            ]
          },
          "metadata": {
            "tags": [],
            "needs_background": "light"
          }
        }
      ]
    },
    {
      "cell_type": "markdown",
      "metadata": {
        "id": "lgp3KG_vQMSR"
      },
      "source": [
        "## 2.1 Busca Binaria"
      ]
    },
    {
      "cell_type": "code",
      "metadata": {
        "id": "L9mY9Vn1QPk5",
        "colab": {
          "base_uri": "https://localhost:8080/",
          "height": 296
        },
        "outputId": "84ee028d-b8d9-4b03-80cb-d82bfee7f7d3"
      },
      "source": [
        "#Plot do gráfico\n",
        "\n",
        "sns.lineplot( data = busca_binaria, x = 'Tamanho', y = 'Operacoes', label = \"busca binaria\" )"
      ],
      "execution_count": null,
      "outputs": [
        {
          "output_type": "execute_result",
          "data": {
            "text/plain": [
              "<matplotlib.axes._subplots.AxesSubplot at 0x7ff664620a90>"
            ]
          },
          "metadata": {
            "tags": []
          },
          "execution_count": 14
        },
        {
          "output_type": "display_data",
          "data": {
            "image/png": "[encoded data removed]",
            "text/plain": [
              "<Figure size 432x288 with 1 Axes>"
            ]
          },
          "metadata": {
            "tags": [],
            "needs_background": "light"
          }
        }
      ]
    }
  ]
}