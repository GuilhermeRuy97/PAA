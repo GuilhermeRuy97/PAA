{
  "nbformat": 4,
  "nbformat_minor": 0,
  "metadata": {
    "colab": {
      "name": "TRAB2.ipynb",
      "provenance": [],
      "authorship_tag": "ABX9TyP6pxLO2Diii0t/JmFnahen",
      "include_colab_link": true
    },
    "kernelspec": {
      "name": "python3",
      "display_name": "Python 3"
    },
    "language_info": {
      "name": "python"
    }
  },
  "cells": [
    {
      "cell_type": "markdown",
      "metadata": {
        "id": "view-in-github",
        "colab_type": "text"
      },
      "source": [
        "<a href=\"https://colab.research.google.com/github/GuilhermeRuy97/PAA-projeto-e-analise-de-algoritmo-/blob/main/TRAB2.ipynb\" target=\"_parent\"><img src=\"https://colab.research.google.com/assets/colab-badge.svg\" alt=\"Open In Colab\"/></a>"
      ]
    },
    {
      "cell_type": "markdown",
      "metadata": {
        "id": "-KNFHMcfNLL0"
      },
      "source": [
        "# 0.0 Imports"
      ]
    },
    {
      "cell_type": "code",
      "metadata": {
        "id": "K4UjpoHLM8gM"
      },
      "source": [
        "import pandas as pd\n",
        "import seaborn as sns"
      ],
      "execution_count": null,
      "outputs": []
    },
    {
      "cell_type": "markdown",
      "metadata": {
        "id": "-HXKXLvrNUOe"
      },
      "source": [
        "# 1.0 Leitura dos dados"
      ]
    },
    {
      "cell_type": "code",
      "metadata": {
        "id": "DOuEn69CNVge"
      },
      "source": [
        "url_insetion_random = ''\n",
        "url_insetion_inverso = ''\n",
        "url_insetion_ordenado = ''\n",
        "\n",
        "url_busca_binaria = ''"
      ],
      "execution_count": null,
      "outputs": []
    },
    {
      "cell_type": "markdown",
      "metadata": {
        "id": "FkQw1EljPHvq"
      },
      "source": [
        "## 1.1 Insertion Sort"
      ]
    },
    {
      "cell_type": "markdown",
      "metadata": {
        "id": "GzbE_bBXPM3Z"
      },
      "source": [
        "Espera-se para o caso do Insertion Sort:\n",
        "\n",
        "\n",
        "1.   Para o pior caso: <br>\n",
        " &nbsp;O(n) = n^2\n",
        "2.   Para o melhor caso: <br>\n",
        " &nbsp;O(n) = n\n",
        "\n",
        "\n"
      ]
    },
    {
      "cell_type": "code",
      "metadata": {
        "id": "kcwu3v20PJaH"
      },
      "source": [
        "# Melhor caso\n",
        "\n",
        "insertion_ordenado = pd.read_csv( url_insetion_ordenado )\n",
        "\n",
        "insertion_ordenado.columns = ( ['Tamanho', 'Operacoes'] )\n",
        "insertion_ordenado.head(7)"
      ],
      "execution_count": null,
      "outputs": []
    },
    {
      "cell_type": "code",
      "metadata": {
        "id": "HhYY_WfqPa8h"
      },
      "source": [
        "# Pior caso\n",
        "\n",
        "insertion_inverso = pd.read_csv( url_insetion_inverso )\n",
        "\n",
        "insertion_inverso.columns = ( ['Tamanho', 'Operacoes'] )\n",
        "insertion_inverso.head(7)"
      ],
      "execution_count": null,
      "outputs": []
    },
    {
      "cell_type": "code",
      "metadata": {
        "id": "9rFOC3g0PbKA"
      },
      "source": [
        "# Caso random\n",
        "\n",
        "insertion_random = pd.read_csv( url_insetion_random )\n",
        "\n",
        "insertion_random.columns = ( ['Tamanho', 'Operacoes'] )\n",
        "insertion_random.head(7)"
      ],
      "execution_count": null,
      "outputs": []
    },
    {
      "cell_type": "markdown",
      "metadata": {
        "id": "EXJZzyVwPwnm"
      },
      "source": [
        "## 1.2 Busca Binaria"
      ]
    },
    {
      "cell_type": "markdown",
      "metadata": {
        "id": "ibl5IIe0Py33"
      },
      "source": [
        "Espera-se para o caso da busca binaria:\n",
        "\n",
        "O(n) = log(n)"
      ]
    },
    {
      "cell_type": "code",
      "metadata": {
        "id": "BgG3ezU_Pyfn"
      },
      "source": [
        "# Binary Search\n",
        "\n",
        "busca_binaria = pd.read_csv( url_busca_binaria )\n",
        "\n",
        "busca_binaria.columns = ( ['Tamanho', 'Operacoes'] )\n",
        "busca_binaria.head(7)"
      ],
      "execution_count": null,
      "outputs": []
    },
    {
      "cell_type": "markdown",
      "metadata": {
        "id": "oGxn-ToQQJRS"
      },
      "source": [
        "# 2.0 Traçando gráficos"
      ]
    },
    {
      "cell_type": "markdown",
      "metadata": {
        "id": "MZqsox8hQJyC"
      },
      "source": [
        "## 2.1 Insertion Sort"
      ]
    },
    {
      "cell_type": "code",
      "metadata": {
        "id": "8a8Sdv-1QPPK"
      },
      "source": [
        "#Plot dos 3 gráficos\n",
        "\n",
        "sns.lineplot( data = insertion_inverso, x = 'Tamanho', y = 'Operacoes', label = \"inverso\" )\n",
        "sns.lineplot( data = insertion_ordenado, x = 'Tamanho', y = 'Operacoes', label = \"ordenado\" )\n",
        "sns.lineplot( data = insertion_random, x = 'Tamanho', y = 'Operacoes', label = \"random\" )"
      ],
      "execution_count": null,
      "outputs": []
    },
    {
      "cell_type": "markdown",
      "metadata": {
        "id": "lgp3KG_vQMSR"
      },
      "source": [
        "## 2.1 Busca Binaria"
      ]
    },
    {
      "cell_type": "code",
      "metadata": {
        "id": "L9mY9Vn1QPk5"
      },
      "source": [
        "#Plot do gráfico\n",
        "\n",
        "sns.lineplot( data = busca_binaria, x = 'Tamanho', y = 'Operacoes', label = \"busca binaria\" )"
      ],
      "execution_count": null,
      "outputs": []
    }
  ]
}