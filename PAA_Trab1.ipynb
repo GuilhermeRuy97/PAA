{
  "nbformat": 4,
  "nbformat_minor": 0,
  "metadata": {
    "colab": {
      "name": "pucfaria.ipynb",
      "provenance": [],
      "authorship_tag": "ABX9TyMwQoRPMxTYT2nWfkrU0K8j",
      "include_colab_link": true
    },
    "kernelspec": {
      "name": "python3",
      "display_name": "Python 3"
    }
  },
  "cells": [
    {
      "cell_type": "markdown",
      "metadata": {
        "id": "view-in-github",
        "colab_type": "text"
      },
      "source": [
        "<a href=\"https://colab.research.google.com/github/GuilhermeRuy97/PAA/blob/main/PAA_Trab1.ipynb\" target=\"_parent\"><img src=\"https://colab.research.google.com/assets/colab-badge.svg\" alt=\"Open In Colab\"/></a>"
      ]
    },
    {
      "cell_type": "markdown",
      "metadata": {
        "id": "piHvGw8CX9Jk"
      },
      "source": [
        "# 0.0 Imports"
      ]
    },
    {
      "cell_type": "code",
      "metadata": {
        "id": "suJdV8QICwlS"
      },
      "source": [
        "import pandas as pd\r\n",
        "import seaborn as sns"
      ],
      "execution_count": null,
      "outputs": []
    },
    {
      "cell_type": "markdown",
      "metadata": {
        "id": "6F8EA1HJYGgX"
      },
      "source": [
        "# 1.0 Leitura dos dados"
      ]
    },
    {
      "cell_type": "code",
      "metadata": {
        "id": "ybjPSItCC3DX"
      },
      "source": [
        "url_max_random = 'https://raw.githubusercontent.com/GuilhermeRuy97/PAA/main/CustoMaxRandom.csv?token=AO6TG7XA2RF3HRY6ADYKB4LAJUYLA'\r\n",
        "url_max_inverso = 'https://raw.githubusercontent.com/GuilhermeRuy97/PAA/main/custoMaxInverso.csv?token=AO6TG7QDTLBMDH4DLPAUIP3AJUYL2'\r\n",
        "url_max_ordenado = 'https://raw.githubusercontent.com/GuilhermeRuy97/PAA/main/custoMaxOrdenado.csv?token=AO6TG7QKMH3NYPIS7IUPDF3AJUYMQ'\r\n",
        "url_bubble_random = 'https://raw.githubusercontent.com/GuilhermeRuy97/PAA/main/custoBubleRandom.csv?token=AO6TG7SVTMLUB7LQEYQOBFLAJUYOI'\r\n",
        "url_bubble_inverso = 'https://raw.githubusercontent.com/GuilhermeRuy97/PAA/main/custoBubleInverso.csv?token=AO6TG7WZEBBH7CPPFT6SGATAJUYPG'\r\n",
        "url_bubble_ordenado = 'https://raw.githubusercontent.com/GuilhermeRuy97/PAA/main/custoBubleOrdenado.csv?token=AO6TG7UBAEVI5CUJWZZVN73AJUYQA'\r\n",
        "url_selection_random = 'https://raw.githubusercontent.com/GuilhermeRuy97/PAA/main/custoSelectionRandom.csv?token=AO6TG7W6BDJJKUZGVTIQJODAJUYRM'\r\n",
        "url_selection_inverso = 'https://raw.githubusercontent.com/GuilhermeRuy97/PAA/main/custoSelectionInverso.csv?token=AO6TG7R5PHH4WUZGJUKWFTLAJUYR6'\r\n",
        "url_selection_ordenado = 'https://raw.githubusercontent.com/GuilhermeRuy97/PAA/main/custoSelectionOrdenado.csv?token=AO6TG7S3BTO5T2AWAITWLQLAJUYSW'\r\n",
        "url_min_random = 'https://raw.githubusercontent.com/GuilhermeRuy97/PAA/main/custoMinRandom.csv?token=AO6TG7X3N4UHFG5DNZ7VTELAJUYUI'\r\n",
        "url_min_inverso = 'https://raw.githubusercontent.com/GuilhermeRuy97/PAA/main/custoMinInverso.csv?token=AO6TG7V7ISUULHPR63ZCIRDAJUYU2'\r\n",
        "url_min_ordenado = 'https://raw.githubusercontent.com/GuilhermeRuy97/PAA/main/custoMinOrdenado.csv?token=AO6TG7RUNDJPKH2MK7EZMC3AJUYVI'"
      ],
      "execution_count": 1,
      "outputs": []
    },
    {
      "cell_type": "markdown",
      "metadata": {
        "id": "IvJx2eQZgBnE"
      },
      "source": [
        "## 1.1 Bubble Sort"
      ]
    },
    {
      "cell_type": "markdown",
      "metadata": {
        "id": "yE3CVcLvgat-"
      },
      "source": [
        ""
      ]
    },
    {
      "cell_type": "code",
      "metadata": {
        "id": "IXxpz3YfgPJr"
      },
      "source": [
        "# Random\r\n",
        "\r\n",
        "bubble_random = pd.read_csv( url_bubble_random )\r\n",
        "\r\n",
        "random.columns = ( ['Tamanho', 'Operacoes'] )\r\n",
        "random"
      ],
      "execution_count": null,
      "outputs": []
    },
    {
      "cell_type": "markdown",
      "metadata": {
        "id": "RxG79ZKKgFdQ"
      },
      "source": [
        "## 1.2 Max"
      ]
    },
    {
      "cell_type": "markdown",
      "metadata": {
        "id": "u3W1tCNlgGyA"
      },
      "source": [
        "## 1.3 Min"
      ]
    },
    {
      "cell_type": "markdown",
      "metadata": {
        "id": "nT2pL832gHlQ"
      },
      "source": [
        "## 1.4 Selection Sort"
      ]
    },
    {
      "cell_type": "code",
      "metadata": {
        "colab": {
          "base_uri": "https://localhost:8080/",
          "height": 423
        },
        "id": "N_NkT9nlF7gK",
        "outputId": "b4ccc3c1-7ec4-49c3-8342-a375380759f2"
      },
      "source": [
        "url_random = 'https://raw.githubusercontent.com/GuilhermeRuy97/PAA/main/random2.csv?token=AO6TG7RAJ7WE2U6IQU44ZDDAIT5B2'\r\n",
        "random = pd.read_csv( url_random )\r\n",
        "\r\n",
        "random.columns = ( ['Tamanho', 'Operacoes'] )\r\n",
        "random"
      ],
      "execution_count": null,
      "outputs": [
        {
          "output_type": "execute_result",
          "data": {
            "text/html": [
              "<div>\n",
              "<style scoped>\n",
              "    .dataframe tbody tr th:only-of-type {\n",
              "        vertical-align: middle;\n",
              "    }\n",
              "\n",
              "    .dataframe tbody tr th {\n",
              "        vertical-align: top;\n",
              "    }\n",
              "\n",
              "    .dataframe thead th {\n",
              "        text-align: right;\n",
              "    }\n",
              "</style>\n",
              "<table border=\"1\" class=\"dataframe\">\n",
              "  <thead>\n",
              "    <tr style=\"text-align: right;\">\n",
              "      <th></th>\n",
              "      <th>Tamanho</th>\n",
              "      <th>Operacoes</th>\n",
              "    </tr>\n",
              "  </thead>\n",
              "  <tbody>\n",
              "    <tr>\n",
              "      <th>0</th>\n",
              "      <td>40</td>\n",
              "      <td>84</td>\n",
              "    </tr>\n",
              "    <tr>\n",
              "      <th>1</th>\n",
              "      <td>60</td>\n",
              "      <td>125</td>\n",
              "    </tr>\n",
              "    <tr>\n",
              "      <th>2</th>\n",
              "      <td>80</td>\n",
              "      <td>166</td>\n",
              "    </tr>\n",
              "    <tr>\n",
              "      <th>3</th>\n",
              "      <td>100</td>\n",
              "      <td>206</td>\n",
              "    </tr>\n",
              "    <tr>\n",
              "      <th>4</th>\n",
              "      <td>120</td>\n",
              "      <td>246</td>\n",
              "    </tr>\n",
              "    <tr>\n",
              "      <th>...</th>\n",
              "      <td>...</td>\n",
              "      <td>...</td>\n",
              "    </tr>\n",
              "    <tr>\n",
              "      <th>94</th>\n",
              "      <td>1920</td>\n",
              "      <td>3848</td>\n",
              "    </tr>\n",
              "    <tr>\n",
              "      <th>95</th>\n",
              "      <td>1940</td>\n",
              "      <td>3888</td>\n",
              "    </tr>\n",
              "    <tr>\n",
              "      <th>96</th>\n",
              "      <td>1960</td>\n",
              "      <td>3928</td>\n",
              "    </tr>\n",
              "    <tr>\n",
              "      <th>97</th>\n",
              "      <td>1980</td>\n",
              "      <td>3968</td>\n",
              "    </tr>\n",
              "    <tr>\n",
              "      <th>98</th>\n",
              "      <td>2000</td>\n",
              "      <td>4008</td>\n",
              "    </tr>\n",
              "  </tbody>\n",
              "</table>\n",
              "<p>99 rows × 2 columns</p>\n",
              "</div>"
            ],
            "text/plain": [
              "    Tamanho  Operacoes\n",
              "0        40         84\n",
              "1        60        125\n",
              "2        80        166\n",
              "3       100        206\n",
              "4       120        246\n",
              "..      ...        ...\n",
              "94     1920       3848\n",
              "95     1940       3888\n",
              "96     1960       3928\n",
              "97     1980       3968\n",
              "98     2000       4008\n",
              "\n",
              "[99 rows x 2 columns]"
            ]
          },
          "metadata": {
            "tags": []
          },
          "execution_count": 10
        }
      ]
    },
    {
      "cell_type": "code",
      "metadata": {
        "colab": {
          "base_uri": "https://localhost:8080/",
          "height": 423
        },
        "id": "nt6NI676FWwC",
        "outputId": "06f0aeaa-8ec1-48d3-d7e6-cd5ce1c9b9b3"
      },
      "source": [
        "url_pior_caso = 'https://raw.githubusercontent.com/GuilhermeRuy97/PAA/main/3n2.csv?token=AO6TG7VXZZAGFH2BYOY5MJTAIT5FO'\r\n",
        "pior_caso = pd.read_csv( url_pior_caso )\r\n",
        "\r\n",
        "pior_caso.columns = ( ['Tamanho', 'Operacoes'] )\r\n",
        "pior_caso"
      ],
      "execution_count": null,
      "outputs": [
        {
          "output_type": "execute_result",
          "data": {
            "text/html": [
              "<div>\n",
              "<style scoped>\n",
              "    .dataframe tbody tr th:only-of-type {\n",
              "        vertical-align: middle;\n",
              "    }\n",
              "\n",
              "    .dataframe tbody tr th {\n",
              "        vertical-align: top;\n",
              "    }\n",
              "\n",
              "    .dataframe thead th {\n",
              "        text-align: right;\n",
              "    }\n",
              "</style>\n",
              "<table border=\"1\" class=\"dataframe\">\n",
              "  <thead>\n",
              "    <tr style=\"text-align: right;\">\n",
              "      <th></th>\n",
              "      <th>Tamanho</th>\n",
              "      <th>Operacoes</th>\n",
              "    </tr>\n",
              "  </thead>\n",
              "  <tbody>\n",
              "    <tr>\n",
              "      <th>0</th>\n",
              "      <td>40</td>\n",
              "      <td>122</td>\n",
              "    </tr>\n",
              "    <tr>\n",
              "      <th>1</th>\n",
              "      <td>60</td>\n",
              "      <td>182</td>\n",
              "    </tr>\n",
              "    <tr>\n",
              "      <th>2</th>\n",
              "      <td>80</td>\n",
              "      <td>242</td>\n",
              "    </tr>\n",
              "    <tr>\n",
              "      <th>3</th>\n",
              "      <td>100</td>\n",
              "      <td>302</td>\n",
              "    </tr>\n",
              "    <tr>\n",
              "      <th>4</th>\n",
              "      <td>120</td>\n",
              "      <td>362</td>\n",
              "    </tr>\n",
              "    <tr>\n",
              "      <th>...</th>\n",
              "      <td>...</td>\n",
              "      <td>...</td>\n",
              "    </tr>\n",
              "    <tr>\n",
              "      <th>94</th>\n",
              "      <td>1920</td>\n",
              "      <td>5762</td>\n",
              "    </tr>\n",
              "    <tr>\n",
              "      <th>95</th>\n",
              "      <td>1940</td>\n",
              "      <td>5822</td>\n",
              "    </tr>\n",
              "    <tr>\n",
              "      <th>96</th>\n",
              "      <td>1960</td>\n",
              "      <td>5882</td>\n",
              "    </tr>\n",
              "    <tr>\n",
              "      <th>97</th>\n",
              "      <td>1980</td>\n",
              "      <td>5942</td>\n",
              "    </tr>\n",
              "    <tr>\n",
              "      <th>98</th>\n",
              "      <td>2000</td>\n",
              "      <td>6002</td>\n",
              "    </tr>\n",
              "  </tbody>\n",
              "</table>\n",
              "<p>99 rows × 2 columns</p>\n",
              "</div>"
            ],
            "text/plain": [
              "    Tamanho  Operacoes\n",
              "0        40        122\n",
              "1        60        182\n",
              "2        80        242\n",
              "3       100        302\n",
              "4       120        362\n",
              "..      ...        ...\n",
              "94     1920       5762\n",
              "95     1940       5822\n",
              "96     1960       5882\n",
              "97     1980       5942\n",
              "98     2000       6002\n",
              "\n",
              "[99 rows x 2 columns]"
            ]
          },
          "metadata": {
            "tags": []
          },
          "execution_count": 4
        }
      ]
    },
    {
      "cell_type": "markdown",
      "metadata": {
        "id": "5ZtyfjB8YQA3"
      },
      "source": [
        "# 2.0 Traçando gráficos"
      ]
    },
    {
      "cell_type": "markdown",
      "metadata": {
        "id": "hDBtAMWVfxsC"
      },
      "source": [
        "## 2.1 Bubble Sort"
      ]
    },
    {
      "cell_type": "markdown",
      "metadata": {
        "id": "JX0hApT0f2Rf"
      },
      "source": [
        "## 2.2 Max"
      ]
    },
    {
      "cell_type": "markdown",
      "metadata": {
        "id": "MjmLNKPgf4DW"
      },
      "source": [
        "## 2.3 Min"
      ]
    },
    {
      "cell_type": "markdown",
      "metadata": {
        "id": "MR1RngOxf5ti"
      },
      "source": [
        "## 2.4 Selection"
      ]
    },
    {
      "cell_type": "code",
      "metadata": {
        "colab": {
          "base_uri": "https://localhost:8080/",
          "height": 298
        },
        "id": "mbHsqYTHELse",
        "outputId": "c9edbca2-dbab-4bc4-f5b6-ee3da1899aff"
      },
      "source": [
        "#Melhor caso ( 3n + 2 )\r\n",
        "\r\n",
        "sns.lineplot( data = melhor_caso, x = 'Tamanho', y = 'Operacoes' )"
      ],
      "execution_count": null,
      "outputs": [
        {
          "output_type": "execute_result",
          "data": {
            "text/plain": [
              "<matplotlib.axes._subplots.AxesSubplot at 0x7fed39f2a790>"
            ]
          },
          "metadata": {
            "tags": []
          },
          "execution_count": 5
        },
        {
          "output_type": "display_data",
          "data": {
            "image/png": "[encoded data removed]",
            "text/plain": [
              "<Figure size 432x288 with 1 Axes>"
            ]
          },
          "metadata": {
            "tags": [],
            "needs_background": "light"
          }
        }
      ]
    },
    {
      "cell_type": "code",
      "metadata": {
        "colab": {
          "base_uri": "https://localhost:8080/",
          "height": 298
        },
        "id": "c1wMyyArF0-B",
        "outputId": "1823291a-a71e-433d-ea2b-3826a49f0648"
      },
      "source": [
        "# Pior caso ( 2n + 3 )\r\n",
        "\r\n",
        "sns.lineplot( data = pior_caso, x = 'Tamanho', y = 'Operacoes' )"
      ],
      "execution_count": null,
      "outputs": [
        {
          "output_type": "execute_result",
          "data": {
            "text/plain": [
              "<matplotlib.axes._subplots.AxesSubplot at 0x7fed38f07590>"
            ]
          },
          "metadata": {
            "tags": []
          },
          "execution_count": 6
        },
        {
          "output_type": "display_data",
          "data": {
            "image/png": "[encoded data removed]",
            "text/plain": [
              "<Figure size 432x288 with 1 Axes>"
            ]
          },
          "metadata": {
            "tags": [],
            "needs_background": "light"
          }
        }
      ]
    },
    {
      "cell_type": "code",
      "metadata": {
        "colab": {
          "base_uri": "https://localhost:8080/",
          "height": 298
        },
        "id": "bn-xgJUvGQ98",
        "outputId": "8ae23745-226b-43e0-ecf8-c9c9008200a5"
      },
      "source": [
        "#Caso random ( ~( 2n + 6 ) )\r\n",
        "\r\n",
        "sns.lineplot( data = random, x = 'Tamanho', y = 'Operacoes' )"
      ],
      "execution_count": null,
      "outputs": [
        {
          "output_type": "execute_result",
          "data": {
            "text/plain": [
              "<matplotlib.axes._subplots.AxesSubplot at 0x7fed38a34d90>"
            ]
          },
          "metadata": {
            "tags": []
          },
          "execution_count": 7
        },
        {
          "output_type": "display_data",
          "data": {
            "image/png": "[encoded data removed]",
            "text/plain": [
              "<Figure size 432x288 with 1 Axes>"
            ]
          },
          "metadata": {
            "tags": [],
            "needs_background": "light"
          }
        }
      ]
    },
    {
      "cell_type": "code",
      "metadata": {
        "colab": {
          "base_uri": "https://localhost:8080/",
          "height": 298
        },
        "id": "91HTu-lHGYME",
        "outputId": "2c140d01-ce61-4833-ed41-16410ad48a40"
      },
      "source": [
        "#Plot dos 3 gráficos\r\n",
        "\r\n",
        "sns.lineplot( data = pior_caso, x = 'Tamanho', y = 'Operacoes' )\r\n",
        "sns.lineplot( data = melhor_caso, x = 'Tamanho', y = 'Operacoes' )\r\n",
        "sns.lineplot( data = random, x = 'Tamanho', y = 'Operacoes' )"
      ],
      "execution_count": null,
      "outputs": [
        {
          "output_type": "execute_result",
          "data": {
            "text/plain": [
              "<matplotlib.axes._subplots.AxesSubplot at 0x7fed389bce50>"
            ]
          },
          "metadata": {
            "tags": []
          },
          "execution_count": 8
        },
        {
          "output_type": "display_data",
          "data": {
            "image/png": "[encoded data removed]",
            "text/plain": [
              "<Figure size 432x288 with 1 Axes>"
            ]
          },
          "metadata": {
            "tags": [],
            "needs_background": "light"
          }
        }
      ]
    }
  ]
}