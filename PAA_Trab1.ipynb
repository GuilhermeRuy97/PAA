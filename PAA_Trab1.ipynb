{
  "nbformat": 4,
  "nbformat_minor": 0,
  "metadata": {
    "colab": {
      "name": "pucfaria.ipynb",
      "provenance": [],
      "authorship_tag": "ABX9TyO0bCn/Yg1VBiKMArW18Kgn",
      "include_colab_link": true
    },
    "kernelspec": {
      "name": "python3",
      "display_name": "Python 3"
    }
  },
  "cells": [
    {
      "cell_type": "markdown",
      "metadata": {
        "id": "view-in-github",
        "colab_type": "text"
      },
      "source": [
        "<a href=\"https://colab.research.google.com/github/GuilhermeRuy97/PAA-projeto-e-analise-de-algoritmo-/blob/main/PAA_Trab1.ipynb\" target=\"_parent\"><img src=\"https://colab.research.google.com/assets/colab-badge.svg\" alt=\"Open In Colab\"/></a>"
      ]
    },
    {
      "cell_type": "markdown",
      "metadata": {
        "id": "piHvGw8CX9Jk"
      },
      "source": [
        "# 0.0 Imports"
      ]
    },
    {
      "cell_type": "code",
      "metadata": {
        "id": "suJdV8QICwlS"
      },
      "source": [
        "import pandas as pd\r\n",
        "import seaborn as sns"
      ],
      "execution_count": 3,
      "outputs": []
    },
    {
      "cell_type": "markdown",
      "metadata": {
        "id": "6F8EA1HJYGgX"
      },
      "source": [
        "# 1.0 Leitura dos dados"
      ]
    },
    {
      "cell_type": "code",
      "metadata": {
        "id": "ybjPSItCC3DX"
      },
      "source": [
        "url_max_random = 'https://raw.githubusercontent.com/GuilhermeRuy97/PAA/main/CustoMaxRandom.csv?token=AO6TG7XA2RF3HRY6ADYKB4LAJUYLA'\r\n",
        "url_max_inverso = 'https://raw.githubusercontent.com/GuilhermeRuy97/PAA/main/custoMaxInverso.csv?token=AO6TG7QDTLBMDH4DLPAUIP3AJUYL2'\r\n",
        "url_max_ordenado = 'https://raw.githubusercontent.com/GuilhermeRuy97/PAA/main/custoMaxOrdenado.csv?token=AO6TG7QKMH3NYPIS7IUPDF3AJUYMQ'\r\n",
        "url_bubble_random = 'https://raw.githubusercontent.com/GuilhermeRuy97/PAA/main/custoBubleRandom.csv?token=AO6TG7SVTMLUB7LQEYQOBFLAJUYOI'\r\n",
        "url_bubble_inverso = 'https://raw.githubusercontent.com/GuilhermeRuy97/PAA/main/custoBubleInverso.csv?token=AO6TG7WZEBBH7CPPFT6SGATAJUYPG'\r\n",
        "url_bubble_ordenado = 'https://raw.githubusercontent.com/GuilhermeRuy97/PAA/main/custoBubleOrdenado.csv?token=AO6TG7UBAEVI5CUJWZZVN73AJUYQA'\r\n",
        "url_selection_random = 'https://raw.githubusercontent.com/GuilhermeRuy97/PAA/main/custoSelectionRandom.csv?token=AO6TG7W6BDJJKUZGVTIQJODAJUYRM'\r\n",
        "url_selection_inverso = 'https://raw.githubusercontent.com/GuilhermeRuy97/PAA/main/custoSelectionInverso.csv?token=AO6TG7R5PHH4WUZGJUKWFTLAJUYR6'\r\n",
        "url_selection_ordenado = 'https://raw.githubusercontent.com/GuilhermeRuy97/PAA/main/custoSelectionOrdenado.csv?token=AO6TG7S3BTO5T2AWAITWLQLAJUYSW'\r\n",
        "url_min_random = 'https://raw.githubusercontent.com/GuilhermeRuy97/PAA/main/custoMinRandom.csv?token=AO6TG7X3N4UHFG5DNZ7VTELAJUYUI'\r\n",
        "url_min_inverso = 'https://raw.githubusercontent.com/GuilhermeRuy97/PAA/main/custoMinInverso.csv?token=AO6TG7V7ISUULHPR63ZCIRDAJUYU2'\r\n",
        "url_min_ordenado = 'https://raw.githubusercontent.com/GuilhermeRuy97/PAA/main/custoMinOrdenado.csv?token=AO6TG7RUNDJPKH2MK7EZMC3AJUYVI'"
      ],
      "execution_count": 1,
      "outputs": []
    },
    {
      "cell_type": "markdown",
      "metadata": {
        "id": "IvJx2eQZgBnE"
      },
      "source": [
        "## 1.1 Bubble Sort"
      ]
    },
    {
      "cell_type": "markdown",
      "metadata": {
        "id": "yE3CVcLvgat-"
      },
      "source": [
        "Espera-se para o caso do Bubble Sort:\r\n",
        "\r\n",
        "\r\n",
        "1.   Para o pior caso: <br>\r\n",
        " &nbsp;f(n) = 2*n*(n-1)/2 = n*(n-1) = n^2 - n <br>\r\n",
        " &nbsp;O(n) = n^2\r\n",
        "2.   Para o melhor caso: <br>\r\n",
        "f(n) = n*(n-1)/2  <br>\r\n",
        "&nbsp;&nbsp;&nbsp;&nbsp;&nbsp;&nbsp;&nbsp;= n^2/2 - n/20\r\n",
        "\r\n"
      ]
    },
    {
      "cell_type": "code",
      "metadata": {
        "colab": {
          "base_uri": "https://localhost:8080/",
          "height": 258
        },
        "id": "2B9u-keYhu68",
        "outputId": "a203ba56-85b5-4262-d311-9c9cf77f86ca"
      },
      "source": [
        "# Melhor caso\r\n",
        "\r\n",
        "bubble_ordenado = pd.read_csv( url_bubble_ordenado )\r\n",
        "\r\n",
        "bubble_ordenado.columns = ( ['Tamanho', 'Operacoes'] )\r\n",
        "bubble_ordenado.head(7)"
      ],
      "execution_count": 4,
      "outputs": [
        {
          "output_type": "execute_result",
          "data": {
            "text/html": [
              "<div>\n",
              "<style scoped>\n",
              "    .dataframe tbody tr th:only-of-type {\n",
              "        vertical-align: middle;\n",
              "    }\n",
              "\n",
              "    .dataframe tbody tr th {\n",
              "        vertical-align: top;\n",
              "    }\n",
              "\n",
              "    .dataframe thead th {\n",
              "        text-align: right;\n",
              "    }\n",
              "</style>\n",
              "<table border=\"1\" class=\"dataframe\">\n",
              "  <thead>\n",
              "    <tr style=\"text-align: right;\">\n",
              "      <th></th>\n",
              "      <th>Tamanho</th>\n",
              "      <th>Operacoes</th>\n",
              "    </tr>\n",
              "  </thead>\n",
              "  <tbody>\n",
              "    <tr>\n",
              "      <th>0</th>\n",
              "      <td>20</td>\n",
              "      <td>190</td>\n",
              "    </tr>\n",
              "    <tr>\n",
              "      <th>1</th>\n",
              "      <td>30</td>\n",
              "      <td>435</td>\n",
              "    </tr>\n",
              "    <tr>\n",
              "      <th>2</th>\n",
              "      <td>40</td>\n",
              "      <td>780</td>\n",
              "    </tr>\n",
              "    <tr>\n",
              "      <th>3</th>\n",
              "      <td>50</td>\n",
              "      <td>1225</td>\n",
              "    </tr>\n",
              "    <tr>\n",
              "      <th>4</th>\n",
              "      <td>60</td>\n",
              "      <td>1770</td>\n",
              "    </tr>\n",
              "    <tr>\n",
              "      <th>5</th>\n",
              "      <td>70</td>\n",
              "      <td>2415</td>\n",
              "    </tr>\n",
              "    <tr>\n",
              "      <th>6</th>\n",
              "      <td>80</td>\n",
              "      <td>3160</td>\n",
              "    </tr>\n",
              "  </tbody>\n",
              "</table>\n",
              "</div>"
            ],
            "text/plain": [
              "   Tamanho  Operacoes\n",
              "0       20        190\n",
              "1       30        435\n",
              "2       40        780\n",
              "3       50       1225\n",
              "4       60       1770\n",
              "5       70       2415\n",
              "6       80       3160"
            ]
          },
          "metadata": {
            "tags": []
          },
          "execution_count": 4
        }
      ]
    },
    {
      "cell_type": "code",
      "metadata": {
        "colab": {
          "base_uri": "https://localhost:8080/",
          "height": 258
        },
        "id": "RBjV-bv_iI5x",
        "outputId": "11f7cf44-34b7-4709-a272-9fb1e950744d"
      },
      "source": [
        "# Pior caso\r\n",
        "\r\n",
        "bubble_inverso = pd.read_csv( url_bubble_inverso )\r\n",
        "\r\n",
        "bubble_inverso.columns = ( ['Tamanho', 'Operacoes'] )\r\n",
        "bubble_inverso.head(7)"
      ],
      "execution_count": 5,
      "outputs": [
        {
          "output_type": "execute_result",
          "data": {
            "text/html": [
              "<div>\n",
              "<style scoped>\n",
              "    .dataframe tbody tr th:only-of-type {\n",
              "        vertical-align: middle;\n",
              "    }\n",
              "\n",
              "    .dataframe tbody tr th {\n",
              "        vertical-align: top;\n",
              "    }\n",
              "\n",
              "    .dataframe thead th {\n",
              "        text-align: right;\n",
              "    }\n",
              "</style>\n",
              "<table border=\"1\" class=\"dataframe\">\n",
              "  <thead>\n",
              "    <tr style=\"text-align: right;\">\n",
              "      <th></th>\n",
              "      <th>Tamanho</th>\n",
              "      <th>Operacoes</th>\n",
              "    </tr>\n",
              "  </thead>\n",
              "  <tbody>\n",
              "    <tr>\n",
              "      <th>0</th>\n",
              "      <td>20</td>\n",
              "      <td>380</td>\n",
              "    </tr>\n",
              "    <tr>\n",
              "      <th>1</th>\n",
              "      <td>30</td>\n",
              "      <td>870</td>\n",
              "    </tr>\n",
              "    <tr>\n",
              "      <th>2</th>\n",
              "      <td>40</td>\n",
              "      <td>1560</td>\n",
              "    </tr>\n",
              "    <tr>\n",
              "      <th>3</th>\n",
              "      <td>50</td>\n",
              "      <td>2450</td>\n",
              "    </tr>\n",
              "    <tr>\n",
              "      <th>4</th>\n",
              "      <td>60</td>\n",
              "      <td>3540</td>\n",
              "    </tr>\n",
              "    <tr>\n",
              "      <th>5</th>\n",
              "      <td>70</td>\n",
              "      <td>4830</td>\n",
              "    </tr>\n",
              "    <tr>\n",
              "      <th>6</th>\n",
              "      <td>80</td>\n",
              "      <td>6320</td>\n",
              "    </tr>\n",
              "  </tbody>\n",
              "</table>\n",
              "</div>"
            ],
            "text/plain": [
              "   Tamanho  Operacoes\n",
              "0       20        380\n",
              "1       30        870\n",
              "2       40       1560\n",
              "3       50       2450\n",
              "4       60       3540\n",
              "5       70       4830\n",
              "6       80       6320"
            ]
          },
          "metadata": {
            "tags": []
          },
          "execution_count": 5
        }
      ]
    },
    {
      "cell_type": "code",
      "metadata": {
        "colab": {
          "base_uri": "https://localhost:8080/",
          "height": 258
        },
        "id": "IXxpz3YfgPJr",
        "outputId": "82274f43-7679-4b45-f72e-6146aa283720"
      },
      "source": [
        "# Random\r\n",
        "\r\n",
        "bubble_random = pd.read_csv( url_bubble_random )\r\n",
        "\r\n",
        "bubble_random.columns = ( ['Tamanho', 'Operacoes'] )\r\n",
        "bubble_random.head(7)"
      ],
      "execution_count": 7,
      "outputs": [
        {
          "output_type": "execute_result",
          "data": {
            "text/html": [
              "<div>\n",
              "<style scoped>\n",
              "    .dataframe tbody tr th:only-of-type {\n",
              "        vertical-align: middle;\n",
              "    }\n",
              "\n",
              "    .dataframe tbody tr th {\n",
              "        vertical-align: top;\n",
              "    }\n",
              "\n",
              "    .dataframe thead th {\n",
              "        text-align: right;\n",
              "    }\n",
              "</style>\n",
              "<table border=\"1\" class=\"dataframe\">\n",
              "  <thead>\n",
              "    <tr style=\"text-align: right;\">\n",
              "      <th></th>\n",
              "      <th>Tamanho</th>\n",
              "      <th>Operacoes</th>\n",
              "    </tr>\n",
              "  </thead>\n",
              "  <tbody>\n",
              "    <tr>\n",
              "      <th>0</th>\n",
              "      <td>20</td>\n",
              "      <td>312</td>\n",
              "    </tr>\n",
              "    <tr>\n",
              "      <th>1</th>\n",
              "      <td>30</td>\n",
              "      <td>664</td>\n",
              "    </tr>\n",
              "    <tr>\n",
              "      <th>2</th>\n",
              "      <td>40</td>\n",
              "      <td>1176</td>\n",
              "    </tr>\n",
              "    <tr>\n",
              "      <th>3</th>\n",
              "      <td>50</td>\n",
              "      <td>1817</td>\n",
              "    </tr>\n",
              "    <tr>\n",
              "      <th>4</th>\n",
              "      <td>60</td>\n",
              "      <td>2535</td>\n",
              "    </tr>\n",
              "    <tr>\n",
              "      <th>5</th>\n",
              "      <td>70</td>\n",
              "      <td>3396</td>\n",
              "    </tr>\n",
              "    <tr>\n",
              "      <th>6</th>\n",
              "      <td>80</td>\n",
              "      <td>4588</td>\n",
              "    </tr>\n",
              "  </tbody>\n",
              "</table>\n",
              "</div>"
            ],
            "text/plain": [
              "   Tamanho  Operacoes\n",
              "0       20        312\n",
              "1       30        664\n",
              "2       40       1176\n",
              "3       50       1817\n",
              "4       60       2535\n",
              "5       70       3396\n",
              "6       80       4588"
            ]
          },
          "metadata": {
            "tags": []
          },
          "execution_count": 7
        }
      ]
    },
    {
      "cell_type": "markdown",
      "metadata": {
        "id": "RxG79ZKKgFdQ"
      },
      "source": [
        "## 1.2 Max"
      ]
    },
    {
      "cell_type": "markdown",
      "metadata": {
        "id": "RGX2anQei7L-"
      },
      "source": [
        "Espera-se para o caso do Max:\r\n",
        "\r\n",
        "f(n) = 1 + n+1 + n + n <br>\r\n",
        "&nbsp;&nbsp;&nbsp;&nbsp;&nbsp;&nbsp;&nbsp;&nbsp;= 3n + 2\r\n",
        "\r\n"
      ]
    },
    {
      "cell_type": "code",
      "metadata": {
        "colab": {
          "base_uri": "https://localhost:8080/",
          "height": 258
        },
        "id": "TCwOWsDNja0F",
        "outputId": "6bd9e5e6-b3ec-436d-cce3-0d3872d45f1b"
      },
      "source": [
        "# Max Inverso\r\n",
        "\r\n",
        "max_inverso = pd.read_csv( url_max_inverso )\r\n",
        "\r\n",
        "max_inverso.columns = ( ['Tamanho', 'Operacoes'] )\r\n",
        "max_inverso.head(7)"
      ],
      "execution_count": 8,
      "outputs": [
        {
          "output_type": "execute_result",
          "data": {
            "text/html": [
              "<div>\n",
              "<style scoped>\n",
              "    .dataframe tbody tr th:only-of-type {\n",
              "        vertical-align: middle;\n",
              "    }\n",
              "\n",
              "    .dataframe tbody tr th {\n",
              "        vertical-align: top;\n",
              "    }\n",
              "\n",
              "    .dataframe thead th {\n",
              "        text-align: right;\n",
              "    }\n",
              "</style>\n",
              "<table border=\"1\" class=\"dataframe\">\n",
              "  <thead>\n",
              "    <tr style=\"text-align: right;\">\n",
              "      <th></th>\n",
              "      <th>Tamanho</th>\n",
              "      <th>Operacoes</th>\n",
              "    </tr>\n",
              "  </thead>\n",
              "  <tbody>\n",
              "    <tr>\n",
              "      <th>0</th>\n",
              "      <td>20</td>\n",
              "      <td>43</td>\n",
              "    </tr>\n",
              "    <tr>\n",
              "      <th>1</th>\n",
              "      <td>30</td>\n",
              "      <td>63</td>\n",
              "    </tr>\n",
              "    <tr>\n",
              "      <th>2</th>\n",
              "      <td>40</td>\n",
              "      <td>83</td>\n",
              "    </tr>\n",
              "    <tr>\n",
              "      <th>3</th>\n",
              "      <td>50</td>\n",
              "      <td>103</td>\n",
              "    </tr>\n",
              "    <tr>\n",
              "      <th>4</th>\n",
              "      <td>60</td>\n",
              "      <td>123</td>\n",
              "    </tr>\n",
              "    <tr>\n",
              "      <th>5</th>\n",
              "      <td>70</td>\n",
              "      <td>143</td>\n",
              "    </tr>\n",
              "    <tr>\n",
              "      <th>6</th>\n",
              "      <td>80</td>\n",
              "      <td>163</td>\n",
              "    </tr>\n",
              "  </tbody>\n",
              "</table>\n",
              "</div>"
            ],
            "text/plain": [
              "   Tamanho  Operacoes\n",
              "0       20         43\n",
              "1       30         63\n",
              "2       40         83\n",
              "3       50        103\n",
              "4       60        123\n",
              "5       70        143\n",
              "6       80        163"
            ]
          },
          "metadata": {
            "tags": []
          },
          "execution_count": 8
        }
      ]
    },
    {
      "cell_type": "code",
      "metadata": {
        "colab": {
          "base_uri": "https://localhost:8080/",
          "height": 258
        },
        "id": "yGehmjR4j8-5",
        "outputId": "eeb8ecf1-7c13-4875-f934-2a5774999489"
      },
      "source": [
        "# Max Inverso\r\n",
        "\r\n",
        "max_ordenado = pd.read_csv( url_max_ordenado )\r\n",
        "\r\n",
        "max_ordenado.columns = ( ['Tamanho', 'Operacoes'] )\r\n",
        "max_ordenado.head(7)"
      ],
      "execution_count": 9,
      "outputs": [
        {
          "output_type": "execute_result",
          "data": {
            "text/html": [
              "<div>\n",
              "<style scoped>\n",
              "    .dataframe tbody tr th:only-of-type {\n",
              "        vertical-align: middle;\n",
              "    }\n",
              "\n",
              "    .dataframe tbody tr th {\n",
              "        vertical-align: top;\n",
              "    }\n",
              "\n",
              "    .dataframe thead th {\n",
              "        text-align: right;\n",
              "    }\n",
              "</style>\n",
              "<table border=\"1\" class=\"dataframe\">\n",
              "  <thead>\n",
              "    <tr style=\"text-align: right;\">\n",
              "      <th></th>\n",
              "      <th>Tamanho</th>\n",
              "      <th>Operacoes</th>\n",
              "    </tr>\n",
              "  </thead>\n",
              "  <tbody>\n",
              "    <tr>\n",
              "      <th>0</th>\n",
              "      <td>20</td>\n",
              "      <td>62</td>\n",
              "    </tr>\n",
              "    <tr>\n",
              "      <th>1</th>\n",
              "      <td>30</td>\n",
              "      <td>92</td>\n",
              "    </tr>\n",
              "    <tr>\n",
              "      <th>2</th>\n",
              "      <td>40</td>\n",
              "      <td>122</td>\n",
              "    </tr>\n",
              "    <tr>\n",
              "      <th>3</th>\n",
              "      <td>50</td>\n",
              "      <td>152</td>\n",
              "    </tr>\n",
              "    <tr>\n",
              "      <th>4</th>\n",
              "      <td>60</td>\n",
              "      <td>182</td>\n",
              "    </tr>\n",
              "    <tr>\n",
              "      <th>5</th>\n",
              "      <td>70</td>\n",
              "      <td>212</td>\n",
              "    </tr>\n",
              "    <tr>\n",
              "      <th>6</th>\n",
              "      <td>80</td>\n",
              "      <td>242</td>\n",
              "    </tr>\n",
              "  </tbody>\n",
              "</table>\n",
              "</div>"
            ],
            "text/plain": [
              "   Tamanho  Operacoes\n",
              "0       20         62\n",
              "1       30         92\n",
              "2       40        122\n",
              "3       50        152\n",
              "4       60        182\n",
              "5       70        212\n",
              "6       80        242"
            ]
          },
          "metadata": {
            "tags": []
          },
          "execution_count": 9
        }
      ]
    },
    {
      "cell_type": "code",
      "metadata": {
        "colab": {
          "base_uri": "https://localhost:8080/",
          "height": 258
        },
        "id": "K52bZM5_kC30",
        "outputId": "b82e9d6c-e18f-4fee-e7bd-64555ae6ba96"
      },
      "source": [
        "# Max Random\r\n",
        "\r\n",
        "max_random = pd.read_csv( url_max_random )\r\n",
        "\r\n",
        "max_random.columns = ( ['Tamanho', 'Operacoes'] )\r\n",
        "max_random.head(7)"
      ],
      "execution_count": 10,
      "outputs": [
        {
          "output_type": "execute_result",
          "data": {
            "text/html": [
              "<div>\n",
              "<style scoped>\n",
              "    .dataframe tbody tr th:only-of-type {\n",
              "        vertical-align: middle;\n",
              "    }\n",
              "\n",
              "    .dataframe tbody tr th {\n",
              "        vertical-align: top;\n",
              "    }\n",
              "\n",
              "    .dataframe thead th {\n",
              "        text-align: right;\n",
              "    }\n",
              "</style>\n",
              "<table border=\"1\" class=\"dataframe\">\n",
              "  <thead>\n",
              "    <tr style=\"text-align: right;\">\n",
              "      <th></th>\n",
              "      <th>Tamanho</th>\n",
              "      <th>Operacoes</th>\n",
              "    </tr>\n",
              "  </thead>\n",
              "  <tbody>\n",
              "    <tr>\n",
              "      <th>0</th>\n",
              "      <td>20</td>\n",
              "      <td>44</td>\n",
              "    </tr>\n",
              "    <tr>\n",
              "      <th>1</th>\n",
              "      <td>30</td>\n",
              "      <td>64</td>\n",
              "    </tr>\n",
              "    <tr>\n",
              "      <th>2</th>\n",
              "      <td>40</td>\n",
              "      <td>84</td>\n",
              "    </tr>\n",
              "    <tr>\n",
              "      <th>3</th>\n",
              "      <td>50</td>\n",
              "      <td>104</td>\n",
              "    </tr>\n",
              "    <tr>\n",
              "      <th>4</th>\n",
              "      <td>60</td>\n",
              "      <td>124</td>\n",
              "    </tr>\n",
              "    <tr>\n",
              "      <th>5</th>\n",
              "      <td>70</td>\n",
              "      <td>144</td>\n",
              "    </tr>\n",
              "    <tr>\n",
              "      <th>6</th>\n",
              "      <td>80</td>\n",
              "      <td>164</td>\n",
              "    </tr>\n",
              "  </tbody>\n",
              "</table>\n",
              "</div>"
            ],
            "text/plain": [
              "   Tamanho  Operacoes\n",
              "0       20         44\n",
              "1       30         64\n",
              "2       40         84\n",
              "3       50        104\n",
              "4       60        124\n",
              "5       70        144\n",
              "6       80        164"
            ]
          },
          "metadata": {
            "tags": []
          },
          "execution_count": 10
        }
      ]
    },
    {
      "cell_type": "markdown",
      "metadata": {
        "id": "u3W1tCNlgGyA"
      },
      "source": [
        "## 1.3 Min"
      ]
    },
    {
      "cell_type": "markdown",
      "metadata": {
        "id": "gXZsx9INkPAk"
      },
      "source": [
        "Espera-se para o caso do Max:\r\n",
        "\r\n",
        "f(n) = 1 + n+1 + n + n <br>\r\n",
        "&nbsp;&nbsp;&nbsp;&nbsp;&nbsp;&nbsp;&nbsp;&nbsp;= 3n + 2\r\n",
        "\r\n"
      ]
    },
    {
      "cell_type": "code",
      "metadata": {
        "colab": {
          "base_uri": "https://localhost:8080/",
          "height": 258
        },
        "id": "-7ZGQfqikXVZ",
        "outputId": "2378b316-cef3-431e-b58f-9ebb9534bc68"
      },
      "source": [
        "# Min Inverso\r\n",
        "\r\n",
        "min_inverso = pd.read_csv( url_min_inverso )\r\n",
        "\r\n",
        "min_inverso.columns = ( ['Tamanho', 'Operacoes'] )\r\n",
        "min_inverso.head(7)"
      ],
      "execution_count": 11,
      "outputs": [
        {
          "output_type": "execute_result",
          "data": {
            "text/html": [
              "<div>\n",
              "<style scoped>\n",
              "    .dataframe tbody tr th:only-of-type {\n",
              "        vertical-align: middle;\n",
              "    }\n",
              "\n",
              "    .dataframe tbody tr th {\n",
              "        vertical-align: top;\n",
              "    }\n",
              "\n",
              "    .dataframe thead th {\n",
              "        text-align: right;\n",
              "    }\n",
              "</style>\n",
              "<table border=\"1\" class=\"dataframe\">\n",
              "  <thead>\n",
              "    <tr style=\"text-align: right;\">\n",
              "      <th></th>\n",
              "      <th>Tamanho</th>\n",
              "      <th>Operacoes</th>\n",
              "    </tr>\n",
              "  </thead>\n",
              "  <tbody>\n",
              "    <tr>\n",
              "      <th>0</th>\n",
              "      <td>20</td>\n",
              "      <td>62</td>\n",
              "    </tr>\n",
              "    <tr>\n",
              "      <th>1</th>\n",
              "      <td>30</td>\n",
              "      <td>92</td>\n",
              "    </tr>\n",
              "    <tr>\n",
              "      <th>2</th>\n",
              "      <td>40</td>\n",
              "      <td>122</td>\n",
              "    </tr>\n",
              "    <tr>\n",
              "      <th>3</th>\n",
              "      <td>50</td>\n",
              "      <td>152</td>\n",
              "    </tr>\n",
              "    <tr>\n",
              "      <th>4</th>\n",
              "      <td>60</td>\n",
              "      <td>182</td>\n",
              "    </tr>\n",
              "    <tr>\n",
              "      <th>5</th>\n",
              "      <td>70</td>\n",
              "      <td>212</td>\n",
              "    </tr>\n",
              "    <tr>\n",
              "      <th>6</th>\n",
              "      <td>80</td>\n",
              "      <td>242</td>\n",
              "    </tr>\n",
              "  </tbody>\n",
              "</table>\n",
              "</div>"
            ],
            "text/plain": [
              "   Tamanho  Operacoes\n",
              "0       20         62\n",
              "1       30         92\n",
              "2       40        122\n",
              "3       50        152\n",
              "4       60        182\n",
              "5       70        212\n",
              "6       80        242"
            ]
          },
          "metadata": {
            "tags": []
          },
          "execution_count": 11
        }
      ]
    },
    {
      "cell_type": "code",
      "metadata": {
        "colab": {
          "base_uri": "https://localhost:8080/",
          "height": 258
        },
        "id": "Q8ZKoePike5h",
        "outputId": "bd75a2ea-e61e-42f5-dd9e-b93161f6666c"
      },
      "source": [
        "# Min Ordenado\r\n",
        "\r\n",
        "min_ordenado = pd.read_csv( url_min_ordenado )\r\n",
        "\r\n",
        "min_ordenado.columns = ( ['Tamanho', 'Operacoes'] )\r\n",
        "min_ordenado.head(7)"
      ],
      "execution_count": 12,
      "outputs": [
        {
          "output_type": "execute_result",
          "data": {
            "text/html": [
              "<div>\n",
              "<style scoped>\n",
              "    .dataframe tbody tr th:only-of-type {\n",
              "        vertical-align: middle;\n",
              "    }\n",
              "\n",
              "    .dataframe tbody tr th {\n",
              "        vertical-align: top;\n",
              "    }\n",
              "\n",
              "    .dataframe thead th {\n",
              "        text-align: right;\n",
              "    }\n",
              "</style>\n",
              "<table border=\"1\" class=\"dataframe\">\n",
              "  <thead>\n",
              "    <tr style=\"text-align: right;\">\n",
              "      <th></th>\n",
              "      <th>Tamanho</th>\n",
              "      <th>Operacoes</th>\n",
              "    </tr>\n",
              "  </thead>\n",
              "  <tbody>\n",
              "    <tr>\n",
              "      <th>0</th>\n",
              "      <td>20</td>\n",
              "      <td>43</td>\n",
              "    </tr>\n",
              "    <tr>\n",
              "      <th>1</th>\n",
              "      <td>30</td>\n",
              "      <td>63</td>\n",
              "    </tr>\n",
              "    <tr>\n",
              "      <th>2</th>\n",
              "      <td>40</td>\n",
              "      <td>83</td>\n",
              "    </tr>\n",
              "    <tr>\n",
              "      <th>3</th>\n",
              "      <td>50</td>\n",
              "      <td>103</td>\n",
              "    </tr>\n",
              "    <tr>\n",
              "      <th>4</th>\n",
              "      <td>60</td>\n",
              "      <td>123</td>\n",
              "    </tr>\n",
              "    <tr>\n",
              "      <th>5</th>\n",
              "      <td>70</td>\n",
              "      <td>143</td>\n",
              "    </tr>\n",
              "    <tr>\n",
              "      <th>6</th>\n",
              "      <td>80</td>\n",
              "      <td>163</td>\n",
              "    </tr>\n",
              "  </tbody>\n",
              "</table>\n",
              "</div>"
            ],
            "text/plain": [
              "   Tamanho  Operacoes\n",
              "0       20         43\n",
              "1       30         63\n",
              "2       40         83\n",
              "3       50        103\n",
              "4       60        123\n",
              "5       70        143\n",
              "6       80        163"
            ]
          },
          "metadata": {
            "tags": []
          },
          "execution_count": 12
        }
      ]
    },
    {
      "cell_type": "code",
      "metadata": {
        "colab": {
          "base_uri": "https://localhost:8080/",
          "height": 258
        },
        "id": "avQr8N1FkkY8",
        "outputId": "d9d0b19a-c85c-4fc8-e765-37eb21858b9a"
      },
      "source": [
        "# Min Random\r\n",
        "\r\n",
        "min_random = pd.read_csv( url_min_random )\r\n",
        "\r\n",
        "min_random.columns = ( ['Tamanho', 'Operacoes'] )\r\n",
        "min_random.head(7)"
      ],
      "execution_count": 13,
      "outputs": [
        {
          "output_type": "execute_result",
          "data": {
            "text/html": [
              "<div>\n",
              "<style scoped>\n",
              "    .dataframe tbody tr th:only-of-type {\n",
              "        vertical-align: middle;\n",
              "    }\n",
              "\n",
              "    .dataframe tbody tr th {\n",
              "        vertical-align: top;\n",
              "    }\n",
              "\n",
              "    .dataframe thead th {\n",
              "        text-align: right;\n",
              "    }\n",
              "</style>\n",
              "<table border=\"1\" class=\"dataframe\">\n",
              "  <thead>\n",
              "    <tr style=\"text-align: right;\">\n",
              "      <th></th>\n",
              "      <th>Tamanho</th>\n",
              "      <th>Operacoes</th>\n",
              "    </tr>\n",
              "  </thead>\n",
              "  <tbody>\n",
              "    <tr>\n",
              "      <th>0</th>\n",
              "      <td>20</td>\n",
              "      <td>46</td>\n",
              "    </tr>\n",
              "    <tr>\n",
              "      <th>1</th>\n",
              "      <td>30</td>\n",
              "      <td>66</td>\n",
              "    </tr>\n",
              "    <tr>\n",
              "      <th>2</th>\n",
              "      <td>40</td>\n",
              "      <td>86</td>\n",
              "    </tr>\n",
              "    <tr>\n",
              "      <th>3</th>\n",
              "      <td>50</td>\n",
              "      <td>106</td>\n",
              "    </tr>\n",
              "    <tr>\n",
              "      <th>4</th>\n",
              "      <td>60</td>\n",
              "      <td>126</td>\n",
              "    </tr>\n",
              "    <tr>\n",
              "      <th>5</th>\n",
              "      <td>70</td>\n",
              "      <td>146</td>\n",
              "    </tr>\n",
              "    <tr>\n",
              "      <th>6</th>\n",
              "      <td>80</td>\n",
              "      <td>166</td>\n",
              "    </tr>\n",
              "  </tbody>\n",
              "</table>\n",
              "</div>"
            ],
            "text/plain": [
              "   Tamanho  Operacoes\n",
              "0       20         46\n",
              "1       30         66\n",
              "2       40         86\n",
              "3       50        106\n",
              "4       60        126\n",
              "5       70        146\n",
              "6       80        166"
            ]
          },
          "metadata": {
            "tags": []
          },
          "execution_count": 13
        }
      ]
    },
    {
      "cell_type": "markdown",
      "metadata": {
        "id": "nT2pL832gHlQ"
      },
      "source": [
        "## 1.4 Selection Sort"
      ]
    },
    {
      "cell_type": "markdown",
      "metadata": {
        "id": "qc_cKfvbkt0s"
      },
      "source": [
        "Espera-se para o caso do Selection Sort:\r\n",
        "\r\n",
        "1.   Para o pior caso: <br>\r\n",
        " &nbsp;f(n) = n^2/2 - n/2 + n/2 = n^2/2 <br>\r\n",
        " &nbsp;O(n)= n^2\r\n",
        "2.   Para o melhor caso: <br>\r\n",
        "f(n) = n*(n-1)/2 + 0  <br>\r\n",
        "\r\n"
      ]
    },
    {
      "cell_type": "code",
      "metadata": {
        "colab": {
          "base_uri": "https://localhost:8080/",
          "height": 258
        },
        "id": "aSXnc2t9k8hp",
        "outputId": "77bbcf88-2483-45a4-fbad-ab6b7b5d771c"
      },
      "source": [
        "# Selection Inverso\r\n",
        "\r\n",
        "selection_inverso = pd.read_csv( url_selection_inverso )\r\n",
        "\r\n",
        "selection_inverso.columns = ( ['Tamanho', 'Operacoes'] )\r\n",
        "selection_inverso.head(7)"
      ],
      "execution_count": 14,
      "outputs": [
        {
          "output_type": "execute_result",
          "data": {
            "text/html": [
              "<div>\n",
              "<style scoped>\n",
              "    .dataframe tbody tr th:only-of-type {\n",
              "        vertical-align: middle;\n",
              "    }\n",
              "\n",
              "    .dataframe tbody tr th {\n",
              "        vertical-align: top;\n",
              "    }\n",
              "\n",
              "    .dataframe thead th {\n",
              "        text-align: right;\n",
              "    }\n",
              "</style>\n",
              "<table border=\"1\" class=\"dataframe\">\n",
              "  <thead>\n",
              "    <tr style=\"text-align: right;\">\n",
              "      <th></th>\n",
              "      <th>Tamanho</th>\n",
              "      <th>Operacoes</th>\n",
              "    </tr>\n",
              "  </thead>\n",
              "  <tbody>\n",
              "    <tr>\n",
              "      <th>0</th>\n",
              "      <td>20</td>\n",
              "      <td>200</td>\n",
              "    </tr>\n",
              "    <tr>\n",
              "      <th>1</th>\n",
              "      <td>30</td>\n",
              "      <td>450</td>\n",
              "    </tr>\n",
              "    <tr>\n",
              "      <th>2</th>\n",
              "      <td>40</td>\n",
              "      <td>800</td>\n",
              "    </tr>\n",
              "    <tr>\n",
              "      <th>3</th>\n",
              "      <td>50</td>\n",
              "      <td>1250</td>\n",
              "    </tr>\n",
              "    <tr>\n",
              "      <th>4</th>\n",
              "      <td>60</td>\n",
              "      <td>1800</td>\n",
              "    </tr>\n",
              "    <tr>\n",
              "      <th>5</th>\n",
              "      <td>70</td>\n",
              "      <td>2450</td>\n",
              "    </tr>\n",
              "    <tr>\n",
              "      <th>6</th>\n",
              "      <td>80</td>\n",
              "      <td>3200</td>\n",
              "    </tr>\n",
              "  </tbody>\n",
              "</table>\n",
              "</div>"
            ],
            "text/plain": [
              "   Tamanho  Operacoes\n",
              "0       20        200\n",
              "1       30        450\n",
              "2       40        800\n",
              "3       50       1250\n",
              "4       60       1800\n",
              "5       70       2450\n",
              "6       80       3200"
            ]
          },
          "metadata": {
            "tags": []
          },
          "execution_count": 14
        }
      ]
    },
    {
      "cell_type": "code",
      "metadata": {
        "colab": {
          "base_uri": "https://localhost:8080/",
          "height": 258
        },
        "id": "VX1GvlQElEkR",
        "outputId": "1f9ca729-814e-4305-8cef-222602030c06"
      },
      "source": [
        "# Selection Ordenado\r\n",
        "\r\n",
        "selection_ordenado = pd.read_csv( url_selection_ordenado )\r\n",
        "\r\n",
        "selection_ordenado.columns = ( ['Tamanho', 'Operacoes'] )\r\n",
        "selection_ordenado.head(7)"
      ],
      "execution_count": 15,
      "outputs": [
        {
          "output_type": "execute_result",
          "data": {
            "text/html": [
              "<div>\n",
              "<style scoped>\n",
              "    .dataframe tbody tr th:only-of-type {\n",
              "        vertical-align: middle;\n",
              "    }\n",
              "\n",
              "    .dataframe tbody tr th {\n",
              "        vertical-align: top;\n",
              "    }\n",
              "\n",
              "    .dataframe thead th {\n",
              "        text-align: right;\n",
              "    }\n",
              "</style>\n",
              "<table border=\"1\" class=\"dataframe\">\n",
              "  <thead>\n",
              "    <tr style=\"text-align: right;\">\n",
              "      <th></th>\n",
              "      <th>Tamanho</th>\n",
              "      <th>Operacoes</th>\n",
              "    </tr>\n",
              "  </thead>\n",
              "  <tbody>\n",
              "    <tr>\n",
              "      <th>0</th>\n",
              "      <td>20</td>\n",
              "      <td>190</td>\n",
              "    </tr>\n",
              "    <tr>\n",
              "      <th>1</th>\n",
              "      <td>30</td>\n",
              "      <td>435</td>\n",
              "    </tr>\n",
              "    <tr>\n",
              "      <th>2</th>\n",
              "      <td>40</td>\n",
              "      <td>780</td>\n",
              "    </tr>\n",
              "    <tr>\n",
              "      <th>3</th>\n",
              "      <td>50</td>\n",
              "      <td>1225</td>\n",
              "    </tr>\n",
              "    <tr>\n",
              "      <th>4</th>\n",
              "      <td>60</td>\n",
              "      <td>1770</td>\n",
              "    </tr>\n",
              "    <tr>\n",
              "      <th>5</th>\n",
              "      <td>70</td>\n",
              "      <td>2415</td>\n",
              "    </tr>\n",
              "    <tr>\n",
              "      <th>6</th>\n",
              "      <td>80</td>\n",
              "      <td>3160</td>\n",
              "    </tr>\n",
              "  </tbody>\n",
              "</table>\n",
              "</div>"
            ],
            "text/plain": [
              "   Tamanho  Operacoes\n",
              "0       20        190\n",
              "1       30        435\n",
              "2       40        780\n",
              "3       50       1225\n",
              "4       60       1770\n",
              "5       70       2415\n",
              "6       80       3160"
            ]
          },
          "metadata": {
            "tags": []
          },
          "execution_count": 15
        }
      ]
    },
    {
      "cell_type": "code",
      "metadata": {
        "colab": {
          "base_uri": "https://localhost:8080/",
          "height": 258
        },
        "id": "boFdbqxflKS0",
        "outputId": "13a2a251-3b58-46e7-8841-895ce0fdd76c"
      },
      "source": [
        "# Selection Random\r\n",
        "\r\n",
        "selection_random = pd.read_csv( url_selection_random )\r\n",
        "\r\n",
        "selection_random.columns = ( ['Tamanho', 'Operacoes'] )\r\n",
        "selection_random.head(7)"
      ],
      "execution_count": 16,
      "outputs": [
        {
          "output_type": "execute_result",
          "data": {
            "text/html": [
              "<div>\n",
              "<style scoped>\n",
              "    .dataframe tbody tr th:only-of-type {\n",
              "        vertical-align: middle;\n",
              "    }\n",
              "\n",
              "    .dataframe tbody tr th {\n",
              "        vertical-align: top;\n",
              "    }\n",
              "\n",
              "    .dataframe thead th {\n",
              "        text-align: right;\n",
              "    }\n",
              "</style>\n",
              "<table border=\"1\" class=\"dataframe\">\n",
              "  <thead>\n",
              "    <tr style=\"text-align: right;\">\n",
              "      <th></th>\n",
              "      <th>Tamanho</th>\n",
              "      <th>Operacoes</th>\n",
              "    </tr>\n",
              "  </thead>\n",
              "  <tbody>\n",
              "    <tr>\n",
              "      <th>0</th>\n",
              "      <td>20</td>\n",
              "      <td>208</td>\n",
              "    </tr>\n",
              "    <tr>\n",
              "      <th>1</th>\n",
              "      <td>30</td>\n",
              "      <td>460</td>\n",
              "    </tr>\n",
              "    <tr>\n",
              "      <th>2</th>\n",
              "      <td>40</td>\n",
              "      <td>818</td>\n",
              "    </tr>\n",
              "    <tr>\n",
              "      <th>3</th>\n",
              "      <td>50</td>\n",
              "      <td>1273</td>\n",
              "    </tr>\n",
              "    <tr>\n",
              "      <th>4</th>\n",
              "      <td>60</td>\n",
              "      <td>1827</td>\n",
              "    </tr>\n",
              "    <tr>\n",
              "      <th>5</th>\n",
              "      <td>70</td>\n",
              "      <td>2482</td>\n",
              "    </tr>\n",
              "    <tr>\n",
              "      <th>6</th>\n",
              "      <td>80</td>\n",
              "      <td>3236</td>\n",
              "    </tr>\n",
              "  </tbody>\n",
              "</table>\n",
              "</div>"
            ],
            "text/plain": [
              "   Tamanho  Operacoes\n",
              "0       20        208\n",
              "1       30        460\n",
              "2       40        818\n",
              "3       50       1273\n",
              "4       60       1827\n",
              "5       70       2482\n",
              "6       80       3236"
            ]
          },
          "metadata": {
            "tags": []
          },
          "execution_count": 16
        }
      ]
    },
    {
      "cell_type": "markdown",
      "metadata": {
        "id": "5ZtyfjB8YQA3"
      },
      "source": [
        "# 2.0 Traçando gráficos"
      ]
    },
    {
      "cell_type": "markdown",
      "metadata": {
        "id": "hDBtAMWVfxsC"
      },
      "source": [
        "## 2.1 Bubble Sort"
      ]
    },
    {
      "cell_type": "code",
      "metadata": {
        "colab": {
          "base_uri": "https://localhost:8080/",
          "height": 308
        },
        "id": "v2ENkCYElV_-",
        "outputId": "a0985ef6-5b68-4bf5-fe41-9cfb3dc644ef"
      },
      "source": [
        "#Plot dos 3 gráficos\r\n",
        "\r\n",
        "sns.lineplot( data = bubble_inverso, x = 'Tamanho', y = 'Operacoes', label = \"inverso\" )\r\n",
        "sns.lineplot( data = bubble_ordenado, x = 'Tamanho', y = 'Operacoes', label = \"ordenado\" )\r\n",
        "sns.lineplot( data = bubble_random, x = 'Tamanho', y = 'Operacoes', label = \"random\" )"
      ],
      "execution_count": 25,
      "outputs": [
        {
          "output_type": "execute_result",
          "data": {
            "text/plain": [
              "<matplotlib.axes._subplots.AxesSubplot at 0x7fa6e6317350>"
            ]
          },
          "metadata": {
            "tags": []
          },
          "execution_count": 25
        },
        {
          "output_type": "display_data",
          "data": {
            "image/png": "[encoded data removed]",
            "text/plain": [
              "<Figure size 432x288 with 1 Axes>"
            ]
          },
          "metadata": {
            "tags": [],
            "needs_background": "light"
          }
        }
      ]
    },
    {
      "cell_type": "markdown",
      "metadata": {
        "id": "JX0hApT0f2Rf"
      },
      "source": [
        "## 2.2 Max"
      ]
    },
    {
      "cell_type": "code",
      "metadata": {
        "colab": {
          "base_uri": "https://localhost:8080/",
          "height": 297
        },
        "id": "2EcCSWRxlvgk",
        "outputId": "cac4b180-8e81-4595-e66d-9d5e452cdf9f"
      },
      "source": [
        "#Plot dos 3 gráficos\r\n",
        "\r\n",
        "sns.lineplot( data = max_inverso, x = 'Tamanho', y = 'Operacoes', label = \"inverso\" )\r\n",
        "sns.lineplot( data = max_ordenado, x = 'Tamanho', y = 'Operacoes', label = \"ordenado\" )\r\n",
        "sns.lineplot( data = max_random, x = 'Tamanho', y = 'Operacoes', label = \"random\" )"
      ],
      "execution_count": 26,
      "outputs": [
        {
          "output_type": "execute_result",
          "data": {
            "text/plain": [
              "<matplotlib.axes._subplots.AxesSubplot at 0x7fa6e3930c90>"
            ]
          },
          "metadata": {
            "tags": []
          },
          "execution_count": 26
        },
        {
          "output_type": "display_data",
          "data": {
            "image/png": "[encoded data removed]",
            "text/plain": [
              "<Figure size 432x288 with 1 Axes>"
            ]
          },
          "metadata": {
            "tags": [],
            "needs_background": "light"
          }
        }
      ]
    },
    {
      "cell_type": "markdown",
      "metadata": {
        "id": "MjmLNKPgf4DW"
      },
      "source": [
        "## 2.3 Min"
      ]
    },
    {
      "cell_type": "code",
      "metadata": {
        "colab": {
          "base_uri": "https://localhost:8080/",
          "height": 297
        },
        "id": "lPWO6-pFl3uy",
        "outputId": "3728fb22-216f-4b7a-f1d4-56a6fab12ea7"
      },
      "source": [
        "#Plot dos 3 gráficos\r\n",
        "\r\n",
        "sns.lineplot( data = min_inverso, x = 'Tamanho', y = 'Operacoes', label = \"inverso\" )\r\n",
        "sns.lineplot( data = min_ordenado, x = 'Tamanho', y = 'Operacoes', label = \"ordenado\" )\r\n",
        "sns.lineplot( data = min_random, x = 'Tamanho', y = 'Operacoes', label = \"random\" )"
      ],
      "execution_count": 27,
      "outputs": [
        {
          "output_type": "execute_result",
          "data": {
            "text/plain": [
              "<matplotlib.axes._subplots.AxesSubplot at 0x7fa6e554d350>"
            ]
          },
          "metadata": {
            "tags": []
          },
          "execution_count": 27
        },
        {
          "output_type": "display_data",
          "data": {
            "image/png": "[encoded data removed]",
            "text/plain": [
              "<Figure size 432x288 with 1 Axes>"
            ]
          },
          "metadata": {
            "tags": [],
            "needs_background": "light"
          }
        }
      ]
    },
    {
      "cell_type": "markdown",
      "metadata": {
        "id": "MR1RngOxf5ti"
      },
      "source": [
        "## 2.4 Selection"
      ]
    },
    {
      "cell_type": "code",
      "metadata": {
        "colab": {
          "base_uri": "https://localhost:8080/",
          "height": 308
        },
        "id": "mbHsqYTHELse",
        "outputId": "09aa8da9-5845-492a-b4e1-05d5bbe800f3"
      },
      "source": [
        "#Plot dos 3 gráficos\r\n",
        "\r\n",
        "sns.lineplot( data = selection_inverso, x = 'Tamanho', y = 'Operacoes', label = \"inverso\" )\r\n",
        "sns.lineplot( data = selection_ordenado, x = 'Tamanho', y = 'Operacoes', label = \"ordenado\" )\r\n",
        "sns.lineplot( data = selection_random, x = 'Tamanho', y = 'Operacoes', label = \"random\" )"
      ],
      "execution_count": 28,
      "outputs": [
        {
          "output_type": "execute_result",
          "data": {
            "text/plain": [
              "<matplotlib.axes._subplots.AxesSubplot at 0x7fa6e378bf10>"
            ]
          },
          "metadata": {
            "tags": []
          },
          "execution_count": 28
        },
        {
          "output_type": "display_data",
          "data": {
            "image/png": "[encoded data removed]",
            "text/plain": [
              "<Figure size 432x288 with 1 Axes>"
            ]
          },
          "metadata": {
            "tags": [],
            "needs_background": "light"
          }
        }
      ]
    },
    {
      "cell_type": "markdown",
      "metadata": {
        "id": "ANTxK6I2pzgF"
      },
      "source": [
        "# 3.0 Comparando os algoritmos"
      ]
    },
    {
      "cell_type": "markdown",
      "metadata": {
        "id": "JL5k0fijp6If"
      },
      "source": [
        "## 3.1 Ordenados"
      ]
    },
    {
      "cell_type": "code",
      "metadata": {
        "colab": {
          "base_uri": "https://localhost:8080/",
          "height": 308
        },
        "id": "G7eoX8OEqASd",
        "outputId": "c64e0a20-51a2-429d-d36f-7ea3f8740619"
      },
      "source": [
        "# Plot dos 4 gráficos para o caso Ordenado\r\n",
        "\r\n",
        "sns.lineplot( data = selection_ordenado, x = 'Tamanho', y = 'Operacoes', label = \"selection\" )\r\n",
        "sns.lineplot( data = bubble_ordenado, x = 'Tamanho', y = 'Operacoes', label = \"bubble\" )\r\n",
        "sns.lineplot( data = max_ordenado, x = 'Tamanho', y = 'Operacoes', label = \"max\" )\r\n",
        "sns.lineplot( data = min_ordenado, x = 'Tamanho', y = 'Operacoes', label = \"min\" )"
      ],
      "execution_count": 29,
      "outputs": [
        {
          "output_type": "execute_result",
          "data": {
            "text/plain": [
              "<matplotlib.axes._subplots.AxesSubplot at 0x7fa6e3707f90>"
            ]
          },
          "metadata": {
            "tags": []
          },
          "execution_count": 29
        },
        {
          "output_type": "display_data",
          "data": {
            "image/png": "[encoded data removed]",
            "text/plain": [
              "<Figure size 432x288 with 1 Axes>"
            ]
          },
          "metadata": {
            "tags": [],
            "needs_background": "light"
          }
        }
      ]
    },
    {
      "cell_type": "markdown",
      "metadata": {
        "id": "jbviWRVbp73h"
      },
      "source": [
        "## 3.2 Inversos"
      ]
    },
    {
      "cell_type": "code",
      "metadata": {
        "colab": {
          "base_uri": "https://localhost:8080/",
          "height": 308
        },
        "id": "yuyqVN4GqQyQ",
        "outputId": "c1b7582e-57db-4b40-e2d2-ab6b4f52d872"
      },
      "source": [
        "# Plot dos 4 gráficos para o caso Inverso\r\n",
        "\r\n",
        "sns.lineplot( data = selection_inverso, x = 'Tamanho', y = 'Operacoes', label = \"selection\" )\r\n",
        "sns.lineplot( data = bubble_inverso, x = 'Tamanho', y = 'Operacoes', label = \"bubble\" )\r\n",
        "sns.lineplot( data = max_inverso, x = 'Tamanho', y = 'Operacoes', label = \"max\" )\r\n",
        "sns.lineplot( data = min_inverso, x = 'Tamanho', y = 'Operacoes', label = \"min\" )"
      ],
      "execution_count": 30,
      "outputs": [
        {
          "output_type": "execute_result",
          "data": {
            "text/plain": [
              "<matplotlib.axes._subplots.AxesSubplot at 0x7fa6e4175350>"
            ]
          },
          "metadata": {
            "tags": []
          },
          "execution_count": 30
        },
        {
          "output_type": "display_data",
          "data": {
            "image/png": "[encoded data removed]",
            "text/plain": [
              "<Figure size 432x288 with 1 Axes>"
            ]
          },
          "metadata": {
            "tags": [],
            "needs_background": "light"
          }
        }
      ]
    },
    {
      "cell_type": "markdown",
      "metadata": {
        "id": "7D9JZE3Xp-RO"
      },
      "source": [
        "## 3.3 Random"
      ]
    },
    {
      "cell_type": "code",
      "metadata": {
        "colab": {
          "base_uri": "https://localhost:8080/",
          "height": 308
        },
        "id": "jjPossghqZec",
        "outputId": "dd16654a-1fbd-4182-9d26-295227b70534"
      },
      "source": [
        "# Plot dos 4 gráficos para o caso Random\r\n",
        "\r\n",
        "sns.lineplot( data = selection_random, x = 'Tamanho', y = 'Operacoes', label = \"selection\" )\r\n",
        "sns.lineplot( data = bubble_random, x = 'Tamanho', y = 'Operacoes', label = \"bubble\" )\r\n",
        "sns.lineplot( data = max_random, x = 'Tamanho', y = 'Operacoes', label = \"max\" )\r\n",
        "sns.lineplot( data = min_random, x = 'Tamanho', y = 'Operacoes', label = \"min\" )"
      ],
      "execution_count": 31,
      "outputs": [
        {
          "output_type": "execute_result",
          "data": {
            "text/plain": [
              "<matplotlib.axes._subplots.AxesSubplot at 0x7fa6e3a3cad0>"
            ]
          },
          "metadata": {
            "tags": []
          },
          "execution_count": 31
        },
        {
          "output_type": "display_data",
          "data": {
            "image/png": "[encoded data removed]",
            "text/plain": [
              "<Figure size 432x288 with 1 Axes>"
            ]
          },
          "metadata": {
            "tags": [],
            "needs_background": "light"
          }
        }
      ]
    }
  ]
}